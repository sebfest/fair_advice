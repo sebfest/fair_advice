{
 "cells": [
  {
   "cell_type": "markdown",
   "metadata": {},
   "source": [
    "## List of tables:\n",
    "### 1. [Table 3: Tabulate choices and beliefs](#tabulate)\n",
    "### 2. [Table 4: Estimating treatment effects, with beliefs](#regression)\n",
    "\n",
    "\n",
    "\n",
    "\n"
   ]
  },
  {
   "cell_type": "code",
   "execution_count": 1,
   "metadata": {},
   "outputs": [],
   "source": [
    "%matplotlib inline"
   ]
  },
  {
   "cell_type": "markdown",
   "metadata": {},
   "source": [
    "#### Imports libraries"
   ]
  },
  {
   "cell_type": "code",
   "execution_count": 2,
   "metadata": {},
   "outputs": [],
   "source": [
    "import matplotlib.pyplot as plt  # Plotting\n",
    "import os  # File system handling\n",
    "import pandas as pd  # Dataframe handling\n",
    "import statsmodels.formula.api as smf  # Regressions analysis\n",
    "\n",
    "from matplotlib.ticker import FuncFormatter  # Formating graphs\n",
    "from scipy import stats  # Statistics module\n",
    "from statsmodels.iolib.summary2 import summary_col  # Regression output table\n",
    "from statsmodels.stats.anova import anova_lm  # Regression anova table\n",
    "from statsmodels.stats.multicomp import MultiComparison  # Multi-comparisson tests\n",
    "from statsmodels.stats.proportion import proportions_ztest # proportion Z-test"
   ]
  },
  {
   "cell_type": "markdown",
   "metadata": {},
   "source": [
    "#### Set project directory"
   ]
  },
  {
   "cell_type": "code",
   "execution_count": 3,
   "metadata": {},
   "outputs": [],
   "source": [
    "PROJECT_FOLDER = os.path.dirname(os.getcwd())\n",
    "FINAL_DATA_FOLDER = os.path.join(PROJECT_FOLDER, 'data', 'final')\n",
    "TABLES_FOLDER = os.path.join(PROJECT_FOLDER, 'reports', 'tables')\n",
    "FIGURES_FOLDER = os.path.join(PROJECT_FOLDER, 'reports', 'figures')"
   ]
  },
  {
   "cell_type": "markdown",
   "metadata": {},
   "source": [
    "#### Pandas options"
   ]
  },
  {
   "cell_type": "code",
   "execution_count": 4,
   "metadata": {},
   "outputs": [],
   "source": [
    "pd.set_option(\"display.precision\", 3)\n",
    "pd.set_option(\"display.expand_frame_repr\", False)\n",
    "pd.set_option(\"display.max_rows\", 40)"
   ]
  },
  {
   "cell_type": "markdown",
   "metadata": {},
   "source": [
    "#### Set plotting style"
   ]
  },
  {
   "cell_type": "code",
   "execution_count": 5,
   "metadata": {},
   "outputs": [],
   "source": [
    "plt.style.use('classic')"
   ]
  },
  {
   "cell_type": "markdown",
   "metadata": {},
   "source": [
    "#### Set plotting properties "
   ]
  },
  {
   "cell_type": "code",
   "execution_count": 6,
   "metadata": {},
   "outputs": [],
   "source": [
    "bar_kw = dict(kind='bar', color='0.4')\n",
    "line_kw = dict(kind='line', lw=1, alpha=1, legend=True)\n",
    "font_kw = dict(fontsize=11, color='k')\n",
    "grid_kw = dict(linewidth=1, axis=\"y\", zorder=2, antialiased=True)\n",
    "xlab_kw = dict(fontsize=11, labelpad=3)\n",
    "ylab_kw = dict(fontsize=11, labelpad=3)\n",
    "error_kw = dict(elinewidth=2, ecolor='0.15')\n",
    "legend_kw = dict(frameon=False)\n",
    "tick_kw = dict(size=5,\n",
    "               which='both',\n",
    "               direction='out',\n",
    "               right=False,\n",
    "               top=False,\n",
    "               labelbottom=True)"
   ]
  },
  {
   "cell_type": "markdown",
   "metadata": {},
   "source": [
    "#### Retrieving dataframe"
   ]
  },
  {
   "cell_type": "code",
   "execution_count": 7,
   "metadata": {},
   "outputs": [
    {
     "name": "stdout",
     "output_type": "stream",
     "text": [
      "<class 'pandas.core.frame.DataFrame'>\n",
      "RangeIndex: 3598 entries, 0 to 3597\n",
      "Data columns (total 28 columns):\n",
      " #   Column                    Non-Null Count  Dtype         \n",
      "---  ------                    --------------  -----         \n",
      " 0   Dataset                   3598 non-null   int64         \n",
      " 1   SubmitTime                3598 non-null   datetime64[ns]\n",
      " 2   Duration                  3598 non-null   int64         \n",
      " 3   Controlquestion           1799 non-null   float64       \n",
      " 4   Controlquestion_attempts  1799 non-null   float64       \n",
      " 5   Treatment                 3598 non-null   int64         \n",
      " 6   Treatment_name            3598 non-null   object        \n",
      " 7   Dictator                  3598 non-null   int64         \n",
      " 8   Decision                  3598 non-null   int64         \n",
      " 9   Advise                    1799 non-null   float64       \n",
      " 10  Follow                    1799 non-null   float64       \n",
      " 11  Belief1                   598 non-null    float64       \n",
      " 12  Belief2                   598 non-null    float64       \n",
      " 13  Age                       3598 non-null   int64         \n",
      " 14  Female                    3598 non-null   int64         \n",
      " 15  Education                 3598 non-null   int64         \n",
      " 16  Political                 3598 non-null   int64         \n",
      " 17  Trust_requester           1799 non-null   float64       \n",
      " 18  Motivation                1793 non-null   object        \n",
      " 19  Risk                      3598 non-null   int64         \n",
      " 20  Base                      3598 non-null   int64         \n",
      " 21  Binding                   3598 non-null   int64         \n",
      " 22  Free                      3598 non-null   int64         \n",
      " 23  Risk_type                 3598 non-null   object        \n",
      " 24  Advice_type               3598 non-null   object        \n",
      " 25  Age_m                     3598 non-null   int64         \n",
      " 26  Education_m               3598 non-null   int64         \n",
      " 27  Political_m               3598 non-null   int64         \n",
      "dtypes: datetime64[ns](1), float64(7), int64(16), object(4)\n",
      "memory usage: 787.2+ KB\n"
     ]
    }
   ],
   "source": [
    "DATA = os.path.join(\n",
    "    FINAL_DATA_FOLDER, \n",
    "    'fair_advice_final.feather'\n",
    ")\n",
    "\n",
    "df = pd.read_feather(DATA)\n",
    "df.info()"
   ]
  },
  {
   "cell_type": "markdown",
   "metadata": {},
   "source": [
    "#### Select only treatments with certain outcomes"
   ]
  },
  {
   "cell_type": "code",
   "execution_count": 8,
   "metadata": {},
   "outputs": [],
   "source": [
    "df = df[(df['Risk'] == 0)]"
   ]
  },
  {
   "cell_type": "markdown",
   "metadata": {},
   "source": [
    "#### Selector for only 'Free advice' treatment"
   ]
  },
  {
   "cell_type": "code",
   "execution_count": 9,
   "metadata": {},
   "outputs": [],
   "source": [
    "df_free = df[(df['Free'] == 1)]"
   ]
  },
  {
   "cell_type": "markdown",
   "metadata": {},
   "source": [
    "#### How many player X believe  that player Y will follow?"
   ]
  },
  {
   "cell_type": "code",
   "execution_count": 10,
   "metadata": {},
   "outputs": [
    {
     "data": {
      "text/html": [
       "<div>\n",
       "<style scoped>\n",
       "    .dataframe tbody tr th:only-of-type {\n",
       "        vertical-align: middle;\n",
       "    }\n",
       "\n",
       "    .dataframe tbody tr th {\n",
       "        vertical-align: top;\n",
       "    }\n",
       "\n",
       "    .dataframe thead th {\n",
       "        text-align: right;\n",
       "    }\n",
       "</style>\n",
       "<table border=\"1\" class=\"dataframe\">\n",
       "  <thead>\n",
       "    <tr style=\"text-align: right;\">\n",
       "      <th></th>\n",
       "      <th>Belief1</th>\n",
       "    </tr>\n",
       "  </thead>\n",
       "  <tbody>\n",
       "    <tr>\n",
       "      <th>mean</th>\n",
       "      <td>0.752</td>\n",
       "    </tr>\n",
       "    <tr>\n",
       "      <th>sem</th>\n",
       "      <td>0.025</td>\n",
       "    </tr>\n",
       "    <tr>\n",
       "      <th>count</th>\n",
       "      <td>302.000</td>\n",
       "    </tr>\n",
       "  </tbody>\n",
       "</table>\n",
       "</div>"
      ],
      "text/plain": [
       "       Belief1\n",
       "mean     0.752\n",
       "sem      0.025\n",
       "count  302.000"
      ]
     },
     "execution_count": 10,
     "metadata": {},
     "output_type": "execute_result"
    }
   ],
   "source": [
    "df_belief1 = df_free\\\n",
    "    .loc[(df_free['Dictator'] == 1), 'Belief1']\\\n",
    "    .agg(['mean', 'sem', 'count'])\\\n",
    "    .to_frame()\n",
    "\n",
    "df_belief1"
   ]
  },
  {
   "cell_type": "markdown",
   "metadata": {
    "pycharm": {
     "name": "#%% md\n"
    }
   },
   "source": []
  },
  {
   "cell_type": "markdown",
   "metadata": {
    "pycharm": {
     "name": "#%% md\n"
    }
   },
   "source": [
    "#### How many player Y follow?"
   ]
  },
  {
   "cell_type": "code",
   "execution_count": 11,
   "metadata": {
    "pycharm": {
     "name": "#%%\n"
    }
   },
   "outputs": [
    {
     "data": {
      "text/html": [
       "<div>\n",
       "<style scoped>\n",
       "    .dataframe tbody tr th:only-of-type {\n",
       "        vertical-align: middle;\n",
       "    }\n",
       "\n",
       "    .dataframe tbody tr th {\n",
       "        vertical-align: top;\n",
       "    }\n",
       "\n",
       "    .dataframe thead th {\n",
       "        text-align: right;\n",
       "    }\n",
       "</style>\n",
       "<table border=\"1\" class=\"dataframe\">\n",
       "  <thead>\n",
       "    <tr style=\"text-align: right;\">\n",
       "      <th></th>\n",
       "      <th>Follow</th>\n",
       "    </tr>\n",
       "  </thead>\n",
       "  <tbody>\n",
       "    <tr>\n",
       "      <th>mean</th>\n",
       "      <td>0.744</td>\n",
       "    </tr>\n",
       "    <tr>\n",
       "      <th>sem</th>\n",
       "      <td>0.025</td>\n",
       "    </tr>\n",
       "    <tr>\n",
       "      <th>count</th>\n",
       "      <td>301.000</td>\n",
       "    </tr>\n",
       "  </tbody>\n",
       "</table>\n",
       "</div>"
      ],
      "text/plain": [
       "        Follow\n",
       "mean     0.744\n",
       "sem      0.025\n",
       "count  301.000"
      ]
     },
     "execution_count": 11,
     "metadata": {},
     "output_type": "execute_result"
    }
   ],
   "source": [
    "df_belief2 = df_free\\\n",
    "    .loc[(df_free['Dictator'] == 0), 'Follow']\\\n",
    "    .agg(['mean', 'sem', 'count'])\\\n",
    "    .to_frame()\n",
    "\n",
    "df_belief2"
   ]
  },
  {
   "cell_type": "markdown",
   "metadata": {},
   "source": [
    "#### Cross tabulating beliefs and choices <a id='tabulate'></a>"
   ]
  },
  {
   "cell_type": "code",
   "execution_count": 12,
   "metadata": {
    "scrolled": true
   },
   "outputs": [
    {
     "data": {
      "text/html": [
       "<div>\n",
       "<style scoped>\n",
       "    .dataframe tbody tr th:only-of-type {\n",
       "        vertical-align: middle;\n",
       "    }\n",
       "\n",
       "    .dataframe tbody tr th {\n",
       "        vertical-align: top;\n",
       "    }\n",
       "\n",
       "    .dataframe thead th {\n",
       "        text-align: right;\n",
       "    }\n",
       "</style>\n",
       "<table border=\"1\" class=\"dataframe\">\n",
       "  <thead>\n",
       "    <tr style=\"text-align: right;\">\n",
       "      <th>Belief</th>\n",
       "      <th>Player Y will not follow</th>\n",
       "      <th>Player Y will follow</th>\n",
       "      <th>All</th>\n",
       "    </tr>\n",
       "    <tr>\n",
       "      <th>Decision</th>\n",
       "      <th></th>\n",
       "      <th></th>\n",
       "      <th></th>\n",
       "    </tr>\n",
       "  </thead>\n",
       "  <tbody>\n",
       "    <tr>\n",
       "      <th>Fair</th>\n",
       "      <td>52</td>\n",
       "      <td>143</td>\n",
       "      <td>195</td>\n",
       "    </tr>\n",
       "    <tr>\n",
       "      <th>Selfish</th>\n",
       "      <td>23</td>\n",
       "      <td>84</td>\n",
       "      <td>107</td>\n",
       "    </tr>\n",
       "    <tr>\n",
       "      <th>All</th>\n",
       "      <td>75</td>\n",
       "      <td>227</td>\n",
       "      <td>302</td>\n",
       "    </tr>\n",
       "  </tbody>\n",
       "</table>\n",
       "</div>"
      ],
      "text/plain": [
       "Belief    Player Y will not follow  Player Y will follow  All\n",
       "Decision                                                     \n",
       "Fair                            52                   143  195\n",
       "Selfish                         23                    84  107\n",
       "All                             75                   227  302"
      ]
     },
     "metadata": {},
     "output_type": "display_data"
    }
   ],
   "source": [
    "cross_table = pd.crosstab(\n",
    "        df.loc[(df['Dictator'] == 1) & (df['Free'] == 1), 'Decision'],\n",
    "        df.loc[(df['Dictator'] == 1) & (df['Free'] == 1), 'Belief1'],\n",
    "        margins=True,\n",
    "        normalize=False)\\\n",
    "    .rename({0:'Player Y will not follow', 1:'Player Y will follow'}, axis=1)\\\n",
    "    .rename_axis('Belief', axis=1)\\\n",
    "    .rename({0:'Fair', 1:'Selfish'}, axis=0)\\\n",
    "    .rename_axis('Decision', axis=0)\n",
    "\n",
    "cross_table.style.format(precision=3).to_latex(\n",
    "    os.path.join(TABLES_FOLDER, 'cross_table_belief1.tex'),\n",
    ")\n",
    "\n",
    "display(cross_table)"
   ]
  },
  {
   "cell_type": "markdown",
   "metadata": {},
   "source": [
    "#### Chi2 test"
   ]
  },
  {
   "cell_type": "code",
   "execution_count": 13,
   "metadata": {
    "pycharm": {
     "name": "#%%\n"
    }
   },
   "outputs": [
    {
     "name": "stdout",
     "output_type": "stream",
     "text": [
      "Chi²: 0.732, p-value: 0.392 \n"
     ]
    }
   ],
   "source": [
    "chi_val, p_val, dof, expected = stats.chi2_contingency(cross_table.iloc[:2, :2])\n",
    "print(f'Chi²: {chi_val:.3f}, p-value: {p_val:.3f} ')"
   ]
  },
  {
   "cell_type": "markdown",
   "metadata": {},
   "source": [
    "#### Fisher exact test"
   ]
  },
  {
   "cell_type": "code",
   "execution_count": 14,
   "metadata": {
    "pycharm": {
     "name": "#%%\n"
    },
    "scrolled": false
   },
   "outputs": [
    {
     "name": "stdout",
     "output_type": "stream",
     "text": [
      "Odds-ratio=1.328, p-value=0.334\n"
     ]
    }
   ],
   "source": [
    "odds_ratio, p_value = stats.fisher_exact(cross_table.iloc[:2, :2], alternative='two-sided')\n",
    "print(f'Odds-ratio={odds_ratio:.3f}, p-value={p_value:.3f}')"
   ]
  },
  {
   "cell_type": "markdown",
   "metadata": {},
   "source": [
    "#### Select only player X and certain outcomes"
   ]
  },
  {
   "cell_type": "code",
   "execution_count": 15,
   "metadata": {
    "pycharm": {
     "name": "#%%\n"
    },
    "scrolled": false
   },
   "outputs": [
    {
     "name": "stdout",
     "output_type": "stream",
     "text": [
      "<class 'pandas.core.frame.DataFrame'>\n",
      "Int64Index: 903 entries, 1799 to 3597\n",
      "Data columns (total 28 columns):\n",
      " #   Column                    Non-Null Count  Dtype         \n",
      "---  ------                    --------------  -----         \n",
      " 0   Dataset                   903 non-null    int64         \n",
      " 1   SubmitTime                903 non-null    datetime64[ns]\n",
      " 2   Duration                  903 non-null    int64         \n",
      " 3   Controlquestion           903 non-null    float64       \n",
      " 4   Controlquestion_attempts  903 non-null    float64       \n",
      " 5   Treatment                 903 non-null    int64         \n",
      " 6   Treatment_name            903 non-null    object        \n",
      " 7   Dictator                  903 non-null    int64         \n",
      " 8   Decision                  903 non-null    int64         \n",
      " 9   Advise                    0 non-null      float64       \n",
      " 10  Follow                    0 non-null      float64       \n",
      " 11  Belief1                   302 non-null    float64       \n",
      " 12  Belief2                   302 non-null    float64       \n",
      " 13  Age                       903 non-null    int64         \n",
      " 14  Female                    903 non-null    int64         \n",
      " 15  Education                 903 non-null    int64         \n",
      " 16  Political                 903 non-null    int64         \n",
      " 17  Trust_requester           903 non-null    float64       \n",
      " 18  Motivation                899 non-null    object        \n",
      " 19  Risk                      903 non-null    int64         \n",
      " 20  Base                      903 non-null    int64         \n",
      " 21  Binding                   903 non-null    int64         \n",
      " 22  Free                      903 non-null    int64         \n",
      " 23  Risk_type                 903 non-null    object        \n",
      " 24  Advice_type               903 non-null    object        \n",
      " 25  Age_m                     903 non-null    int64         \n",
      " 26  Education_m               903 non-null    int64         \n",
      " 27  Political_m               903 non-null    int64         \n",
      "dtypes: datetime64[ns](1), float64(7), int64(16), object(4)\n",
      "memory usage: 204.6+ KB\n"
     ]
    }
   ],
   "source": [
    "df = df[(df['Dictator'] == 1) & (df['Risk'] == 0)]\n",
    "df.info()"
   ]
  },
  {
   "cell_type": "markdown",
   "metadata": {},
   "source": [
    "#### Create indicator variable for disbelievers"
   ]
  },
  {
   "cell_type": "code",
   "execution_count": 16,
   "metadata": {
    "pycharm": {
     "name": "#%%\n"
    }
   },
   "outputs": [
    {
     "data": {
      "text/plain": [
       "0    828\n",
       "1     75\n",
       "Name: Disbelieve, dtype: int64"
      ]
     },
     "execution_count": 16,
     "metadata": {},
     "output_type": "execute_result"
    }
   ],
   "source": [
    "df.loc[:, 'Disbelieve'] = 0\n",
    "df.loc[df['Belief1'] == 0, 'Disbelieve'] = 1\n",
    "df['Disbelieve'].value_counts()"
   ]
  },
  {
   "cell_type": "markdown",
   "metadata": {},
   "source": [
    "#### Estimating treatment effects, splitting ub by beliefs <a id='regression'></a>"
   ]
  },
  {
   "cell_type": "code",
   "execution_count": 17,
   "metadata": {},
   "outputs": [
    {
     "data": {
      "text/html": [
       "<div>\n",
       "<style scoped>\n",
       "    .dataframe tbody tr th:only-of-type {\n",
       "        vertical-align: middle;\n",
       "    }\n",
       "\n",
       "    .dataframe tbody tr th {\n",
       "        vertical-align: top;\n",
       "    }\n",
       "\n",
       "    .dataframe thead th {\n",
       "        text-align: right;\n",
       "    }\n",
       "</style>\n",
       "<table border=\"1\" class=\"dataframe\">\n",
       "  <thead>\n",
       "    <tr style=\"text-align: right;\">\n",
       "      <th>Dependent variable</th>\n",
       "      <th>p(selfish)</th>\n",
       "      <th>p(selfish)</th>\n",
       "    </tr>\n",
       "  </thead>\n",
       "  <tbody>\n",
       "    <tr>\n",
       "      <th>Binding</th>\n",
       "      <td>-0.135***</td>\n",
       "      <td>-0.133***</td>\n",
       "    </tr>\n",
       "    <tr>\n",
       "      <th></th>\n",
       "      <td>(0.040)</td>\n",
       "      <td>(0.040)</td>\n",
       "    </tr>\n",
       "    <tr>\n",
       "      <th>Free</th>\n",
       "      <td>-0.183***</td>\n",
       "      <td>-0.175***</td>\n",
       "    </tr>\n",
       "    <tr>\n",
       "      <th></th>\n",
       "      <td>(0.043)</td>\n",
       "      <td>(0.043)</td>\n",
       "    </tr>\n",
       "    <tr>\n",
       "      <th>Free * Disbelieve</th>\n",
       "      <td>-0.063</td>\n",
       "      <td>-0.090</td>\n",
       "    </tr>\n",
       "    <tr>\n",
       "      <th></th>\n",
       "      <td>(0.062)</td>\n",
       "      <td>(0.063)</td>\n",
       "    </tr>\n",
       "    <tr>\n",
       "      <th>Age_m</th>\n",
       "      <td></td>\n",
       "      <td>-0.039</td>\n",
       "    </tr>\n",
       "    <tr>\n",
       "      <th></th>\n",
       "      <td></td>\n",
       "      <td>(0.033)</td>\n",
       "    </tr>\n",
       "    <tr>\n",
       "      <th>Female</th>\n",
       "      <td></td>\n",
       "      <td>-0.131***</td>\n",
       "    </tr>\n",
       "    <tr>\n",
       "      <th></th>\n",
       "      <td></td>\n",
       "      <td>(0.033)</td>\n",
       "    </tr>\n",
       "    <tr>\n",
       "      <th>Education_m</th>\n",
       "      <td></td>\n",
       "      <td>-0.015</td>\n",
       "    </tr>\n",
       "    <tr>\n",
       "      <th></th>\n",
       "      <td></td>\n",
       "      <td>(0.033)</td>\n",
       "    </tr>\n",
       "    <tr>\n",
       "      <th>Political_m</th>\n",
       "      <td></td>\n",
       "      <td>-0.006</td>\n",
       "    </tr>\n",
       "    <tr>\n",
       "      <th></th>\n",
       "      <td></td>\n",
       "      <td>(0.033)</td>\n",
       "    </tr>\n",
       "    <tr>\n",
       "      <th>Intercept</th>\n",
       "      <td>0.553***</td>\n",
       "      <td>0.645***</td>\n",
       "    </tr>\n",
       "    <tr>\n",
       "      <th></th>\n",
       "      <td>(0.029)</td>\n",
       "      <td>(0.042)</td>\n",
       "    </tr>\n",
       "    <tr>\n",
       "      <th>R-squared</th>\n",
       "      <td>0.029</td>\n",
       "      <td>0.049</td>\n",
       "    </tr>\n",
       "    <tr>\n",
       "      <th>R-squared Adj.</th>\n",
       "      <td>0.026</td>\n",
       "      <td>0.042</td>\n",
       "    </tr>\n",
       "    <tr>\n",
       "      <th>N</th>\n",
       "      <td>903</td>\n",
       "      <td>903</td>\n",
       "    </tr>\n",
       "    <tr>\n",
       "      <th>F</th>\n",
       "      <td>9.043</td>\n",
       "      <td>6.756</td>\n",
       "    </tr>\n",
       "    <tr>\n",
       "      <th>P(&gt;F)</th>\n",
       "      <td>0.000</td>\n",
       "      <td>0.000</td>\n",
       "    </tr>\n",
       "  </tbody>\n",
       "</table>\n",
       "</div>"
      ],
      "text/plain": [
       "Dependent variable p(selfish) p(selfish)\n",
       "Binding             -0.135***  -0.133***\n",
       "                      (0.040)    (0.040)\n",
       "Free                -0.183***  -0.175***\n",
       "                      (0.043)    (0.043)\n",
       "Free * Disbelieve      -0.063     -0.090\n",
       "                      (0.062)    (0.063)\n",
       "Age_m                             -0.039\n",
       "                                 (0.033)\n",
       "Female                         -0.131***\n",
       "                                 (0.033)\n",
       "Education_m                       -0.015\n",
       "                                 (0.033)\n",
       "Political_m                       -0.006\n",
       "                                 (0.033)\n",
       "Intercept            0.553***   0.645***\n",
       "                      (0.029)    (0.042)\n",
       "R-squared               0.029      0.049\n",
       "R-squared Adj.          0.026      0.042\n",
       "N                         903        903\n",
       "F                       9.043      6.756\n",
       "P(>F)                   0.000      0.000"
      ]
     },
     "metadata": {},
     "output_type": "display_data"
    }
   ],
   "source": [
    "regs = dict()\n",
    "regs['reg1'] = 'Decision ~ Binding + Free + Free:Disbelieve'\n",
    "regs['reg2'] = regs['reg1'] + ' + Age_m + Female + Education_m + Political_m'\n",
    "\n",
    "ols_results = [\n",
    "    smf.ols(formula=v, data=df).fit(cov_type='HC1') for v in regs.values()\n",
    "]\n",
    "\n",
    "order = [\n",
    "    'Binding',\n",
    "    'Free',\n",
    "    'Free:Disbelieve',\n",
    "    'Disbelieve',\n",
    "    'Age_m',\n",
    "    'Female',\n",
    "    'Education_m',\n",
    "    'Political_m',\n",
    "    'Intercept',\n",
    "]\n",
    "\n",
    "auxiliary = {\n",
    "    'N': lambda x: f'{x.nobs:.0f}',\n",
    "    'F': lambda x: f'{x.fvalue:.3f}', \n",
    "    'P(>F)': lambda x: f'{x.f_pvalue:.3f}',\n",
    "}\n",
    "\n",
    "ols_quant = summary_col(\n",
    "    ols_results,\n",
    "    stars=True,\n",
    "    info_dict=auxiliary,\n",
    "    float_format='%.3f',\n",
    "    regressor_order=order,\n",
    ")\n",
    "\n",
    "ols_quant = ols_quant\\\n",
    "    .tables[0]\\\n",
    "    .rename(mapper=lambda x: x.replace(':', ' * '), axis=0)\\\n",
    "    .rename(mapper=lambda x: x.split()[0].replace('Decision', 'p(selfish)'), axis=1)\\\n",
    "    .rename_axis('Dependent variable', axis=1)\n",
    "\n",
    "ols_quant.style.format(precision=3).to_latex(\n",
    "    os.path.join(TABLES_FOLDER, 'ols_decision_robust.tex'),\n",
    ")\n",
    "\n",
    "display(ols_quant)"
   ]
  },
  {
   "cell_type": "markdown",
   "metadata": {},
   "source": [
    "#### Convert to html"
   ]
  },
  {
   "cell_type": "code",
   "execution_count": 18,
   "metadata": {},
   "outputs": [
    {
     "name": "stdout",
     "output_type": "stream",
     "text": [
      "[NbConvertApp] Converting notebook 4_beliefs.ipynb to html\n",
      "[NbConvertApp] Writing 606023 bytes to docs/4_beliefs.html\n"
     ]
    }
   ],
   "source": [
    "!jupyter nbconvert --output-dir='./docs' --to html 4_beliefs.ipynb"
   ]
  }
 ],
 "metadata": {
  "hide_input": false,
  "kernelspec": {
   "display_name": "Python 3 (ipykernel)",
   "language": "python",
   "name": "python3"
  },
  "language_info": {
   "codemirror_mode": {
    "name": "ipython",
    "version": 3
   },
   "file_extension": ".py",
   "mimetype": "text/x-python",
   "name": "python",
   "nbconvert_exporter": "python",
   "pygments_lexer": "ipython3",
   "version": "3.9.13"
  }
 },
 "nbformat": 4,
 "nbformat_minor": 2
}
