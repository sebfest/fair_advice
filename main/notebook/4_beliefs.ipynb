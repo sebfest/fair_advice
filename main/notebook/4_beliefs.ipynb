{
 "cells": [
  {
   "cell_type": "markdown",
   "metadata": {},
   "source": [
    "### List of tables:\n",
    "\n",
    "\n",
    "1. [Table 3: Regressing the probability of player X to choose the selfish option, excluding observations](#quantity)\n",
    "\n",
    "### List of figures:\n",
    "\n",
    "2. [Figure 3: Player X’s beliefs](#belief)"
   ]
  },
  {
   "cell_type": "markdown",
   "metadata": {},
   "source": [
    "#### Imports libraries"
   ]
  },
  {
   "cell_type": "code",
   "execution_count": 1,
   "metadata": {},
   "outputs": [],
   "source": [
    "import matplotlib.pyplot as plt #plotting\n",
    "import os #file system handling\n",
    "import pandas as pd #dataframe handling\n",
    "import statsmodels.api as sm #regression analysis\n",
    "import statsmodels.formula.api as smf # regressions analysis\n",
    "\n",
    "from matplotlib.ticker import FuncFormatter #formating graphs \n",
    "from scipy import stats #statistics module\n",
    "from statsmodels.iolib.summary2 import summary_col #regression output table\n",
    "from statsmodels.stats.anova import anova_lm #regression anova table\n",
    "from statsmodels.stats.multicomp import MultiComparison #multi-comparisson tests "
   ]
  },
  {
   "cell_type": "markdown",
   "metadata": {},
   "source": [
    "#### Set project directory"
   ]
  },
  {
   "cell_type": "code",
   "execution_count": 2,
   "metadata": {},
   "outputs": [],
   "source": [
    "PROJECT_FOLDER = os.path.abspath(os.path.join(os.getcwd(), os.pardir))\n",
    "FINAL_DATA_FOLDER = os.path.join(PROJECT_FOLDER, 'data', 'final')\n",
    "TABLES_FOLDER = os.path.join(PROJECT_FOLDER, 'reports', 'tables')\n",
    "FIGURES_FOLDER = os.path.join(PROJECT_FOLDER, 'reports', 'figures')"
   ]
  },
  {
   "cell_type": "markdown",
   "metadata": {},
   "source": [
    "#### Set display format"
   ]
  },
  {
   "cell_type": "code",
   "execution_count": 3,
   "metadata": {},
   "outputs": [],
   "source": [
    "pd.options.display.float_format = '{:.3f}'.format"
   ]
  },
  {
   "cell_type": "markdown",
   "metadata": {},
   "source": [
    "#### Set plotting style"
   ]
  },
  {
   "cell_type": "code",
   "execution_count": 4,
   "metadata": {},
   "outputs": [],
   "source": [
    "plt.style.use('classic')"
   ]
  },
  {
   "cell_type": "markdown",
   "metadata": {},
   "source": [
    "#### Set plotting properties "
   ]
  },
  {
   "cell_type": "code",
   "execution_count": null,
   "metadata": {},
   "outputs": [],
   "source": [
    "bar_kwargs = dict(kind='bar', color='0.4', alpha=0.8, lw=0.5, width=0.7)\n",
    "line_kwargs = dict(kind='line', lw=1, alpha=1, legend=True)\n",
    "tick_kwargs = dict(size=5, which='both', right=False, top=False, direction='out', labelbottom=True)\n",
    "font_kwargs = dict(fontsize=11, color='k')\n",
    "grid_kwargs = dict(linewidth=1, axis=\"y\", zorder=2, antialiased=True)\n",
    "xlabel_kwargs = dict(fontsize=11, labelpad=3)\n",
    "ylabel_kwargs = dict(fontsize=11, labelpad=3)\n",
    "e_kwargs = dict(elinewidth=2, ecolor='0.15')\n",
    "legend_kwargs = dict(frameon=False)"
   ]
  },
  {
   "cell_type": "markdown",
   "metadata": {},
   "source": [
    "#### Retrieving dataframe"
   ]
  },
  {
   "cell_type": "code",
   "execution_count": 5,
   "metadata": {},
   "outputs": [
    {
     "name": "stdout",
     "output_type": "stream",
     "text": [
      "<class 'pandas.core.frame.DataFrame'>\n",
      "RangeIndex: 3598 entries, 0 to 3597\n",
      "Data columns (total 24 columns):\n",
      "Dataset                     3598 non-null int64\n",
      "SubmitTime                  3598 non-null datetime64[ns]\n",
      "Duration                    3598 non-null int64\n",
      "Controlquestion             1799 non-null float64\n",
      "Controlquestion_attempts    1799 non-null float64\n",
      "Treatment                   3598 non-null int64\n",
      "Treatment_name              3598 non-null object\n",
      "Dictator                    3598 non-null int64\n",
      "Decision                    3598 non-null int64\n",
      "Advise                      3598 non-null int64\n",
      "Follow                      1799 non-null float64\n",
      "Belief1                     598 non-null float64\n",
      "Belief2                     598 non-null float64\n",
      "Age                         3598 non-null int64\n",
      "Female                      3598 non-null int64\n",
      "Education                   3598 non-null int64\n",
      "Political                   3598 non-null int64\n",
      "Trust_requester             1799 non-null float64\n",
      "Motivation                  1793 non-null object\n",
      "Risk                        3598 non-null int64\n",
      "Dictate                     3598 non-null int64\n",
      "Framed                      3598 non-null int64\n",
      "Treatment_first             3598 non-null object\n",
      "Treatment_second            3598 non-null object\n",
      "dtypes: datetime64[ns](1), float64(6), int64(13), object(4)\n",
      "memory usage: 674.8+ KB\n"
     ]
    }
   ],
   "source": [
    "DATA = os.path.join(FINAL_DATA_FOLDER, 'fair_advice_final.feather')\n",
    "df = pd.read_feather(DATA)\n",
    "df.info()"
   ]
  }
 ],
 "metadata": {
  "hide_input": false,
  "kernelspec": {
   "display_name": "Python 3",
   "language": "python",
   "name": "python3"
  },
  "language_info": {
   "codemirror_mode": {
    "name": "ipython",
    "version": 3
   },
   "file_extension": ".py",
   "mimetype": "text/x-python",
   "name": "python",
   "nbconvert_exporter": "python",
   "pygments_lexer": "ipython3",
   "version": "3.6.9"
  }
 },
 "nbformat": 4,
 "nbformat_minor": 4
}
