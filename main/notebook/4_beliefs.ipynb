{
 "cells": [
  {
   "cell_type": "markdown",
   "metadata": {},
   "source": [
    "### List of tables:\n",
    "\n",
    "\n",
    "1. [Table 3: Regressing the probability of player X to choose the selfish option, excluding observations](#quantity)\n",
    "\n",
    "### List of figures:\n",
    "\n",
    "2. [Figure 3: Player X’s beliefs](#belief)"
   ]
  },
  {
   "cell_type": "markdown",
   "metadata": {},
   "source": [
    "#### Imports libraries"
   ]
  },
  {
   "cell_type": "code",
   "execution_count": 1,
   "metadata": {},
   "outputs": [],
   "source": [
    "import matplotlib.pyplot as plt #plotting\n",
    "import numpy as np #array manipulation\n",
    "import os #file system handling\n",
    "import pandas as pd #dataframe handling\n",
    "import statsmodels.api as sm #regression analysis\n",
    "import statsmodels.formula.api as smf # regressions analysis\n",
    "\n",
    "from matplotlib.ticker import FuncFormatter #formating graphs \n",
    "from scipy import stats #statistics module\n",
    "from statsmodels.iolib.summary2 import summary_col #regression output table\n",
    "from statsmodels.stats.anova import anova_lm #regression anova table\n",
    "from statsmodels.stats.multicomp import MultiComparison #multi-comparisson tests "
   ]
  },
  {
   "cell_type": "markdown",
   "metadata": {},
   "source": [
    "#### Set project directory"
   ]
  },
  {
   "cell_type": "code",
   "execution_count": 2,
   "metadata": {},
   "outputs": [],
   "source": [
    "PROJECT_FOLDER = os.path.abspath(os.path.join(os.getcwd(), os.pardir))\n",
    "FINAL_DATA_FOLDER = os.path.join(PROJECT_FOLDER, 'data', 'final')\n",
    "TABLES_FOLDER = os.path.join(PROJECT_FOLDER, 'reports', 'tables')\n",
    "FIGURES_FOLDER = os.path.join(PROJECT_FOLDER, 'reports', 'figures')"
   ]
  },
  {
   "cell_type": "markdown",
   "metadata": {},
   "source": [
    "#### Set display format"
   ]
  },
  {
   "cell_type": "code",
   "execution_count": 3,
   "metadata": {},
   "outputs": [],
   "source": [
    "pd.options.display.float_format = '{:.3f}'.format"
   ]
  },
  {
   "cell_type": "markdown",
   "metadata": {},
   "source": [
    "#### Set plotting style"
   ]
  },
  {
   "cell_type": "code",
   "execution_count": 4,
   "metadata": {},
   "outputs": [],
   "source": [
    "plt.style.use('classic')"
   ]
  },
  {
   "cell_type": "markdown",
   "metadata": {},
   "source": [
    "#### Set plotting properties "
   ]
  },
  {
   "cell_type": "code",
   "execution_count": 5,
   "metadata": {},
   "outputs": [],
   "source": [
    "bar_kw = dict(kind='bar', color='0.4', alpha=0.8, lw=0.5, width=0.7)\n",
    "line_kw = dict(kind='line', lw=1, alpha=1, legend=True)\n",
    "tick_kw = dict(size=5, which='both', right=False, top=False, direction='out', labelbottom=True)\n",
    "font_kw = dict(fontsize=11, color='k')\n",
    "grid_kw = dict(linewidth=1, axis=\"y\", zorder=2, antialiased=True)\n",
    "xlabel_kw = dict(fontsize=11, labelpad=3)\n",
    "ylabel_kw = dict(fontsize=11, labelpad=3)\n",
    "e_kw = dict(elinewidth=2, ecolor='0.15')\n",
    "legend_kw = dict(frameon=False)"
   ]
  },
  {
   "cell_type": "markdown",
   "metadata": {},
   "source": [
    "#### Retrieving dataframe"
   ]
  },
  {
   "cell_type": "code",
   "execution_count": 6,
   "metadata": {},
   "outputs": [
    {
     "name": "stdout",
     "output_type": "stream",
     "text": [
      "<class 'pandas.core.frame.DataFrame'>\n",
      "RangeIndex: 3598 entries, 0 to 3597\n",
      "Data columns (total 24 columns):\n",
      "Dataset                     3598 non-null int64\n",
      "SubmitTime                  3598 non-null datetime64[ns]\n",
      "Duration                    3598 non-null int64\n",
      "Controlquestion             1799 non-null float64\n",
      "Controlquestion_attempts    1799 non-null float64\n",
      "Treatment                   3598 non-null int64\n",
      "Treatment_name              3598 non-null object\n",
      "Dictator                    3598 non-null int64\n",
      "Decision                    3598 non-null int64\n",
      "Advise                      3598 non-null int64\n",
      "Follow                      1799 non-null float64\n",
      "Belief1                     598 non-null float64\n",
      "Belief2                     598 non-null float64\n",
      "Age                         3598 non-null int64\n",
      "Female                      3598 non-null int64\n",
      "Education                   3598 non-null int64\n",
      "Political                   3598 non-null int64\n",
      "Trust_requester             1799 non-null float64\n",
      "Motivation                  1793 non-null object\n",
      "Risk                        3598 non-null int64\n",
      "Dictate                     3598 non-null int64\n",
      "Framed                      3598 non-null int64\n",
      "Treatment_first             3598 non-null object\n",
      "Treatment_second            3598 non-null object\n",
      "dtypes: datetime64[ns](1), float64(6), int64(13), object(4)\n",
      "memory usage: 674.8+ KB\n"
     ]
    }
   ],
   "source": [
    "DATA = os.path.join(FINAL_DATA_FOLDER, 'fair_advice_final.feather')\n",
    "df = pd.read_feather(DATA)\n",
    "df.info()"
   ]
  },
  {
   "cell_type": "code",
   "execution_count": 7,
   "metadata": {},
   "outputs": [],
   "source": [
    "df1 = df[(df.Dictator == 1)&(df.Advise == 1)]"
   ]
  },
  {
   "cell_type": "markdown",
   "metadata": {},
   "source": [
    "#### Answers to belief question 1&2 "
   ]
  },
  {
   "cell_type": "code",
   "execution_count": 8,
   "metadata": {},
   "outputs": [
    {
     "data": {
      "text/html": [
       "<div>\n",
       "<style scoped>\n",
       "    .dataframe tbody tr th:only-of-type {\n",
       "        vertical-align: middle;\n",
       "    }\n",
       "\n",
       "    .dataframe tbody tr th {\n",
       "        vertical-align: top;\n",
       "    }\n",
       "\n",
       "    .dataframe thead tr th {\n",
       "        text-align: left;\n",
       "    }\n",
       "\n",
       "    .dataframe thead tr:last-of-type th {\n",
       "        text-align: right;\n",
       "    }\n",
       "</style>\n",
       "<table border=\"1\" class=\"dataframe\">\n",
       "  <thead>\n",
       "    <tr>\n",
       "      <th></th>\n",
       "      <th colspan=\"2\" halign=\"left\">Belief1</th>\n",
       "      <th colspan=\"2\" halign=\"left\">Belief2</th>\n",
       "    </tr>\n",
       "    <tr>\n",
       "      <th></th>\n",
       "      <th>mean</th>\n",
       "      <th>sem</th>\n",
       "      <th>mean</th>\n",
       "      <th>sem</th>\n",
       "    </tr>\n",
       "    <tr>\n",
       "      <th>Treatment</th>\n",
       "      <th></th>\n",
       "      <th></th>\n",
       "      <th></th>\n",
       "      <th></th>\n",
       "    </tr>\n",
       "  </thead>\n",
       "  <tbody>\n",
       "    <tr>\n",
       "      <th>No Risk</th>\n",
       "      <td>0.752</td>\n",
       "      <td>0.025</td>\n",
       "      <td>59.675</td>\n",
       "      <td>1.107</td>\n",
       "    </tr>\n",
       "    <tr>\n",
       "      <th>Risk</th>\n",
       "      <td>0.804</td>\n",
       "      <td>0.023</td>\n",
       "      <td>63.551</td>\n",
       "      <td>1.039</td>\n",
       "    </tr>\n",
       "  </tbody>\n",
       "</table>\n",
       "</div>"
      ],
      "text/plain": [
       "          Belief1       Belief2      \n",
       "             mean   sem    mean   sem\n",
       "Treatment                            \n",
       "No Risk     0.752 0.025  59.675 1.107\n",
       "Risk        0.804 0.023  63.551 1.039"
      ]
     },
     "metadata": {},
     "output_type": "display_data"
    }
   ],
   "source": [
    "beliefs = df1.groupby('Treatment_first')[['Belief1', 'Belief2']]\\\n",
    "        .agg(['mean', 'sem'])\\\n",
    "        .rename_axis('Treatment', axis=0)\\\n",
    "\n",
    "display(beliefs)"
   ]
  },
  {
   "cell_type": "code",
   "execution_count": 9,
   "metadata": {},
   "outputs": [
    {
     "data": {
      "image/png": "[encoded data removed]",
      "text/plain": [
       "<Figure size 800x600 with 1 Axes>"
      ]
     },
     "metadata": {},
     "output_type": "display_data"
    }
   ],
   "source": [
    "follow_df = df[(df.Advise==1)].groupby('Treatment_first')['Follow'].mean()\n",
    "hline_label = 'Actual chance of advisee adhering to the advice (not conditional\\non type of advice)'\n",
    "bar_label = 'Fraction of advisors who believe advisee will follow their advice'  \n",
    "fig, ax = plt.subplots(figsize=(8, 6), dpi=100, facecolor='w')\n",
    "beliefs['Belief1']['mean'].plot(yerr=beliefs['Belief1']['sem'], error_kw=e_kw, ax=ax, label=bar_label, **bar_kw)\n",
    "ax.tick_params(axis='x', rotation=0, **tick_kw)\n",
    "ax.tick_params(axis='y', **tick_kw)\n",
    "ax.set_ylabel(\"Percentage believing Y will follow their advice \\n +/- SE(mean)\", **ylabel_kw)\n",
    "ax.set_xlabel(\"\")\n",
    "ax.set_yticks(np.arange(0.0, 1.1, 0.1))\n",
    "ax.set_ylim(top=0.99)\n",
    "ax.axhline(y=follow_df['No Risk'], xmin=.12, xmax=0.425, c='0.1', lw=1, ls='--', label=hline_label)\n",
    "ax.axhline(y=follow_df['Risk'], xmin=.6, xmax=0.85, c='0.1', lw=1, ls='--')\n",
    "legend_handles, legend_labels = ax.get_legend_handles_labels()\n",
    "ax.legend(legend_handles[::-1], legend_labels[::-1], shadow=False, frameon=False, framealpha=0.1, fontsize=10)     \n",
    "plt.savefig(os.path.join(FIGURES_FOLDER, 'beliefs1.pdf'), bbox_inches='tight')\n",
    "plt.show()"
   ]
  }
 ],
 "metadata": {
  "hide_input": false,
  "kernelspec": {
   "display_name": "Python 3",
   "language": "python",
   "name": "python3"
  },
  "language_info": {
   "codemirror_mode": {
    "name": "ipython",
    "version": 3
   },
   "file_extension": ".py",
   "mimetype": "text/x-python",
   "name": "python",
   "nbconvert_exporter": "python",
   "pygments_lexer": "ipython3",
   "version": "3.6.9"
  }
 },
 "nbformat": 4,
 "nbformat_minor": 4
}
