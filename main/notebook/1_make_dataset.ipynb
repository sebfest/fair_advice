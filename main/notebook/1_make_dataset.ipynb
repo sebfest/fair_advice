{
 "cells": [
  {
   "cell_type": "markdown",
   "metadata": {},
   "source": [
    "#### Import modules"
   ]
  },
  {
   "cell_type": "code",
   "execution_count": 1,
   "metadata": {},
   "outputs": [],
   "source": [
    "import matplotlib.pyplot as plt  #plotting\n",
    "import numpy as np #matrix  manipulation\n",
    "import os #filesystem support\n",
    "import pandas as pd #dataframe \n",
    "import statsmodels.formula.api as smf  # regressions analysis\n",
    "\n",
    "from statsmodels.iolib.summary2 import summary_col  #regression output table"
   ]
  },
  {
   "cell_type": "markdown",
   "metadata": {},
   "source": [
    "#### Set project folders"
   ]
  },
  {
   "cell_type": "code",
   "execution_count": 2,
   "metadata": {},
   "outputs": [],
   "source": [
    "PROJECT_FOLDER = os.path.abspath(os.path.join(os.getcwd(), os.pardir))\n",
    "RAW_DATA_FOLDER = os.path.join(PROJECT_FOLDER, 'data', 'raw')\n",
    "PROCESSED_DATA_FOLDER = os.path.join(PROJECT_FOLDER, 'data', 'processed')\n",
    "FINAL_DATA_FOLDER = os.path.join(PROJECT_FOLDER, 'data', 'final')\n",
    "TABLES_FOLDER = os.path.join(PROJECT_FOLDER, 'reports', 'tables')\n",
    "FIGURES_FOLDER = os.path.join(PROJECT_FOLDER, 'reports', 'figures')"
   ]
  },
  {
   "cell_type": "markdown",
   "metadata": {},
   "source": [
    "#### Load dataframe"
   ]
  },
  {
   "cell_type": "code",
   "execution_count": 3,
   "metadata": {},
   "outputs": [
    {
     "name": "stdout",
     "output_type": "stream",
     "text": [
      "<class 'pandas.core.frame.DataFrame'>\n",
      "RangeIndex: 3598 entries, 0 to 3597\n",
      "Data columns (total 19 columns):\n",
      "Dataset                     3598 non-null int64\n",
      "SubmitTime                  3598 non-null datetime64[ns]\n",
      "Duration                    3598 non-null int64\n",
      "Controlquestion             1799 non-null float64\n",
      "Controlquestion_attempts    1799 non-null float64\n",
      "Treatment                   3598 non-null int64\n",
      "Treatment_name              3598 non-null object\n",
      "Dictator                    3598 non-null int64\n",
      "Decision                    3598 non-null int64\n",
      "Advise                      1799 non-null float64\n",
      "Follow                      1799 non-null float64\n",
      "Belief1                     598 non-null float64\n",
      "Belief2                     598 non-null float64\n",
      "Age                         3598 non-null int64\n",
      "Female                      3598 non-null int64\n",
      "Education                   3598 non-null int64\n",
      "Political                   3598 non-null int64\n",
      "Trust_requester             1799 non-null float64\n",
      "Motivation                  1793 non-null object\n",
      "dtypes: datetime64[ns](1), float64(7), int64(9), object(2)\n",
      "memory usage: 534.2+ KB\n"
     ]
    }
   ],
   "source": [
    "DATA =  os.path.join(PROCESSED_DATA_FOLDER, 'fair_advice.feather')\n",
    "df = pd.read_feather(DATA)\n",
    "df.info(verbose=True)"
   ]
  },
  {
   "cell_type": "markdown",
   "metadata": {},
   "source": [
    "#### Make treatment indicator variables for each main effect"
   ]
  },
  {
   "cell_type": "code",
   "execution_count": 4,
   "metadata": {},
   "outputs": [],
   "source": [
    "df['Risk'] = df['Treatment'].isin([2,4,6]).astype(int)\n",
    "df['Dictate'] = df['Treatment'].isin([1,2]).astype(int)\n",
    "df['Framed'] = df['Treatment'].isin([3,4]).astype(int)\n",
    "df['Advise'] = df['Treatment'].isin([5,6]).astype(int)"
   ]
  },
  {
   "cell_type": "markdown",
   "metadata": {},
   "source": [
    "#### Make treatment indicator variables for each treatment axis"
   ]
  },
  {
   "cell_type": "code",
   "execution_count": 5,
   "metadata": {},
   "outputs": [],
   "source": [
    "df['Treatment_first'] = df['Risk'].replace({0:'No Risk', 1:'Risk'})\n",
    "df.loc[df['Dictate'] == 1, 'Treatment_second'] = 'Dictate'\n",
    "df.loc[df['Framed']  == 1, 'Treatment_second'] = 'Framed'\n",
    "df.loc[df['Advise']  == 1, 'Treatment_second'] = 'Advise'"
   ]
  },
  {
   "cell_type": "markdown",
   "metadata": {},
   "source": [
    "#### Save dataframe"
   ]
  },
  {
   "cell_type": "code",
   "execution_count": 6,
   "metadata": {},
   "outputs": [],
   "source": [
    "path = os.path.join(FINAL_DATA_FOLDER, 'fair_advice_final.feather')\n",
    "df.to_feather(path)"
   ]
  }
 ],
 "metadata": {
  "hide_input": false,
  "kernelspec": {
   "display_name": "Python 3",
   "language": "python",
   "name": "python3"
  },
  "language_info": {
   "codemirror_mode": {
    "name": "ipython",
    "version": 3
   },
   "file_extension": ".py",
   "mimetype": "text/x-python",
   "name": "python",
   "nbconvert_exporter": "python",
   "pygments_lexer": "ipython3",
   "version": "3.6.9"
  }
 },
 "nbformat": 4,
 "nbformat_minor": 4
}
