{
 "cells": [
  {
   "cell_type": "markdown",
   "metadata": {},
   "source": [
    "#### Import modules"
   ]
  },
  {
   "cell_type": "code",
   "execution_count": 1,
   "metadata": {},
   "outputs": [],
   "source": [
    "import os  # File system handling\n",
    "import pandas as pd  # Dataframe handling"
   ]
  },
  {
   "cell_type": "markdown",
   "metadata": {},
   "source": [
    "#### Set project folders"
   ]
  },
  {
   "cell_type": "code",
   "execution_count": 2,
   "metadata": {},
   "outputs": [],
   "source": [
    "PROJECT_FOLDER = os.path.abspath(os.path.join(os.getcwd(), os.pardir))\n",
    "RAW_DATA_FOLDER = os.path.join(PROJECT_FOLDER, 'data', 'raw')\n",
    "PROCESSED_DATA_FOLDER = os.path.join(PROJECT_FOLDER, 'data', 'processed')\n",
    "FINAL_DATA_FOLDER = os.path.join(PROJECT_FOLDER, 'data', 'final')"
   ]
  },
  {
   "cell_type": "markdown",
   "metadata": {},
   "source": [
    "#### Load dataframe"
   ]
  },
  {
   "cell_type": "code",
   "execution_count": 3,
   "metadata": {},
   "outputs": [
    {
     "name": "stdout",
     "output_type": "stream",
     "text": [
      "<class 'pandas.core.frame.DataFrame'>\n",
      "RangeIndex: 3598 entries, 0 to 3597\n",
      "Data columns (total 19 columns):\n",
      " #   Column                    Non-Null Count  Dtype         \n",
      "---  ------                    --------------  -----         \n",
      " 0   Dataset                   3598 non-null   int64         \n",
      " 1   SubmitTime                3598 non-null   datetime64[ns]\n",
      " 2   Duration                  3598 non-null   int64         \n",
      " 3   Controlquestion           1799 non-null   float64       \n",
      " 4   Controlquestion_attempts  1799 non-null   float64       \n",
      " 5   Treatment                 3598 non-null   int64         \n",
      " 6   Treatment_name            3598 non-null   object        \n",
      " 7   Dictator                  3598 non-null   int64         \n",
      " 8   Decision                  3598 non-null   int64         \n",
      " 9   Advise                    1799 non-null   float64       \n",
      " 10  Follow                    1799 non-null   float64       \n",
      " 11  Belief1                   598 non-null    float64       \n",
      " 12  Belief2                   598 non-null    float64       \n",
      " 13  Age                       3598 non-null   int64         \n",
      " 14  Female                    3598 non-null   int64         \n",
      " 15  Education                 3598 non-null   int64         \n",
      " 16  Political                 3598 non-null   int64         \n",
      " 17  Trust_requester           1799 non-null   float64       \n",
      " 18  Motivation                1793 non-null   object        \n",
      "dtypes: datetime64[ns](1), float64(7), int64(9), object(2)\n",
      "memory usage: 534.2+ KB\n"
     ]
    }
   ],
   "source": [
    "DATA =  os.path.join(\n",
    "    PROCESSED_DATA_FOLDER, \n",
    "    'fair_advice.feather'\n",
    ")\n",
    "\n",
    "df = pd.read_feather(DATA)\n",
    "df.info(verbose=True)"
   ]
  },
  {
   "cell_type": "markdown",
   "metadata": {},
   "source": [
    "#### Make treatment indicator variables for each main effect"
   ]
  },
  {
   "cell_type": "code",
   "execution_count": 4,
   "metadata": {},
   "outputs": [],
   "source": [
    "df['Risk'] = df['Treatment'].isin([2,4,6]).astype(int)\n",
    "df['Base'] = df['Treatment'].isin([1,2]).astype(int)\n",
    "df['Binding'] = df['Treatment'].isin([3,4]).astype(int)\n",
    "df['Free'] = df['Treatment'].isin([5,6]).astype(int)"
   ]
  },
  {
   "cell_type": "markdown",
   "metadata": {},
   "source": [
    "#### Make treatment indicator variables for each treatment axis"
   ]
  },
  {
   "cell_type": "code",
   "execution_count": 5,
   "metadata": {},
   "outputs": [],
   "source": [
    "df['Risk_type'] = df['Risk'].replace({0:'No Risk', 1:'Risk'})\n",
    "df.loc[df['Base'] == 1, 'Advice_type'] = 'Base'\n",
    "df.loc[df['Binding']  == 1, 'Advice_type'] = 'Binding'\n",
    "df.loc[df['Free']  == 1, 'Advice_type'] = 'Free'"
   ]
  },
  {
   "cell_type": "markdown",
   "metadata": {},
   "source": [
    "### Make INdicator variables for above median age, education and political orientation "
   ]
  },
  {
   "cell_type": "code",
   "execution_count": 6,
   "metadata": {},
   "outputs": [],
   "source": [
    "for cov in ['Age', 'Education', 'Political']:\n",
    "    df[f'{cov}_m'] = (df[cov] > df[cov].median()).astype(int)"
   ]
  },
  {
   "cell_type": "markdown",
   "metadata": {},
   "source": [
    "#### Save dataframe"
   ]
  },
  {
   "cell_type": "code",
   "execution_count": 7,
   "metadata": {
    "pycharm": {
     "name": "#%%\n"
    }
   },
   "outputs": [
    {
     "name": "stdout",
     "output_type": "stream",
     "text": [
      "<class 'pandas.core.frame.DataFrame'>\n",
      "RangeIndex: 3598 entries, 0 to 3597\n",
      "Data columns (total 28 columns):\n",
      " #   Column                    Non-Null Count  Dtype         \n",
      "---  ------                    --------------  -----         \n",
      " 0   Dataset                   3598 non-null   int64         \n",
      " 1   SubmitTime                3598 non-null   datetime64[ns]\n",
      " 2   Duration                  3598 non-null   int64         \n",
      " 3   Controlquestion           1799 non-null   float64       \n",
      " 4   Controlquestion_attempts  1799 non-null   float64       \n",
      " 5   Treatment                 3598 non-null   int64         \n",
      " 6   Treatment_name            3598 non-null   object        \n",
      " 7   Dictator                  3598 non-null   int64         \n",
      " 8   Decision                  3598 non-null   int64         \n",
      " 9   Advise                    1799 non-null   float64       \n",
      " 10  Follow                    1799 non-null   float64       \n",
      " 11  Belief1                   598 non-null    float64       \n",
      " 12  Belief2                   598 non-null    float64       \n",
      " 13  Age                       3598 non-null   int64         \n",
      " 14  Female                    3598 non-null   int64         \n",
      " 15  Education                 3598 non-null   int64         \n",
      " 16  Political                 3598 non-null   int64         \n",
      " 17  Trust_requester           1799 non-null   float64       \n",
      " 18  Motivation                1793 non-null   object        \n",
      " 19  Risk                      3598 non-null   int64         \n",
      " 20  Base                      3598 non-null   int64         \n",
      " 21  Binding                   3598 non-null   int64         \n",
      " 22  Free                      3598 non-null   int64         \n",
      " 23  Risk_type                 3598 non-null   object        \n",
      " 24  Advice_type               3598 non-null   object        \n",
      " 25  Age_m                     3598 non-null   int64         \n",
      " 26  Education_m               3598 non-null   int64         \n",
      " 27  Political_m               3598 non-null   int64         \n",
      "dtypes: datetime64[ns](1), float64(7), int64(16), object(4)\n",
      "memory usage: 787.2+ KB\n"
     ]
    }
   ],
   "source": [
    "df.info(verbose=True)\n",
    "path = os.path.join(FINAL_DATA_FOLDER, 'fair_advice_final.feather')\n",
    "df.to_feather(path)"
   ]
  },
  {
   "cell_type": "markdown",
   "metadata": {},
   "source": [
    "#### Convert to html"
   ]
  },
  {
   "cell_type": "code",
   "execution_count": 8,
   "metadata": {},
   "outputs": [
    {
     "name": "stdout",
     "output_type": "stream",
     "text": [
      "[NbConvertApp] Converting notebook 1_make_dataset.ipynb to html\n",
      "[NbConvertApp] Writing 591467 bytes to docs/1_make_dataset.html\n"
     ]
    }
   ],
   "source": [
    "!jupyter nbconvert --output-dir='./docs' --to html 1_make_dataset.ipynb"
   ]
  }
 ],
 "metadata": {
  "hide_input": false,
  "kernelspec": {
   "display_name": "Python 3",
   "language": "python",
   "name": "python3"
  },
  "language_info": {
   "codemirror_mode": {
    "name": "ipython",
    "version": 3
   },
   "file_extension": ".py",
   "mimetype": "text/x-python",
   "name": "python",
   "nbconvert_exporter": "python",
   "pygments_lexer": "ipython3",
   "version": "3.8.10"
  }
 },
 "nbformat": 4,
 "nbformat_minor": 4
}
