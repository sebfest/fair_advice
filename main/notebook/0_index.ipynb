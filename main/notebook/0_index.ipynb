{
 "cells": [
  {
   "cell_type": "markdown",
   "metadata": {},
   "source": [
    "### Notebook index:\n",
    "\n",
    "Below is an overview of the notebooks provided for the research project ''Fair Advice''. It contains code to recreate all tables and figures presented in the paper. \n",
    "\n",
    "1. [Creating workable dataset](1_make_dataset.ipynb)\n",
    "2. [Sample characterisitcs and balance](2_balance_and_sample.ipynb)\n",
    "3. [Treatment effects](3_treatment_effects.ipynb)\n",
    "4. [Beliefs](4_beliefs.ipynb)\n",
    "\n",
    "\n"
   ]
  }
 ],
 "metadata": {
  "hide_input": false,
  "kernelspec": {
   "display_name": "Python 3",
   "language": "python",
   "name": "python3"
  },
  "language_info": {
   "codemirror_mode": {
    "name": "ipython",
    "version": 3
   },
   "file_extension": ".py",
   "mimetype": "text/x-python",
   "name": "python",
   "nbconvert_exporter": "python",
   "pygments_lexer": "ipython3",
   "version": "3.6.9"
  }
 },
 "nbformat": 4,
 "nbformat_minor": 4
}
