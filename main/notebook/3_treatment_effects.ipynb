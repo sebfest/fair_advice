{
 "cells": [
  {
   "cell_type": "markdown",
   "metadata": {},
   "source": [
    "## List of tables:\n",
    "### 1. [Table 3: Treatment effects](#quantity)\n",
    "\n",
    "## List of figures:\n",
    "### 2. [Figure 1: Distribution of fragments submitted](#icdf)"
   ]
  },
  {
   "cell_type": "code",
   "execution_count": 1,
   "metadata": {},
   "outputs": [],
   "source": [
    "%matplotlib inline"
   ]
  },
  {
   "cell_type": "markdown",
   "metadata": {},
   "source": [
    "#### Imports libraries"
   ]
  },
  {
   "cell_type": "code",
   "execution_count": 2,
   "metadata": {},
   "outputs": [],
   "source": [
    "import matplotlib.pyplot as plt  # Plotting\n",
    "import os  # File system handling\n",
    "import pandas as pd  # Dataframe handling\n",
    "import statsmodels.formula.api as smf  # Regressions analysis\n",
    "\n",
    "from matplotlib.ticker import FuncFormatter  # Formating graphs\n",
    "from itertools import combinations\n",
    "from statsmodels.iolib.summary2 import summary_col  # Regression output table\n",
    "from statsmodels.stats.proportion import proportions_ztest # Proportion Z-test"
   ]
  },
  {
   "cell_type": "markdown",
   "metadata": {},
   "source": [
    "#### Set project directory"
   ]
  },
  {
   "cell_type": "code",
   "execution_count": 3,
   "metadata": {},
   "outputs": [],
   "source": [
    "PROJECT_FOLDER = os.path.dirname(os.getcwd())\n",
    "FINAL_DATA_FOLDER = os.path.join(PROJECT_FOLDER, 'data', 'final')\n",
    "TABLES_FOLDER = os.path.join(PROJECT_FOLDER, 'reports', 'tables')\n",
    "FIGURES_FOLDER = os.path.join(PROJECT_FOLDER, 'reports', 'figures')"
   ]
  },
  {
   "cell_type": "markdown",
   "metadata": {},
   "source": [
    "#### Pandas options"
   ]
  },
  {
   "cell_type": "code",
   "execution_count": 4,
   "metadata": {},
   "outputs": [],
   "source": [
    "pd.set_option(\"display.precision\", 3)\n",
    "pd.set_option(\"display.expand_frame_repr\", False)\n",
    "pd.set_option(\"display.max_rows\", 40)"
   ]
  },
  {
   "cell_type": "markdown",
   "metadata": {},
   "source": [
    "#### Set plotting style"
   ]
  },
  {
   "cell_type": "code",
   "execution_count": 5,
   "metadata": {},
   "outputs": [],
   "source": [
    "plt.style.use('classic')"
   ]
  },
  {
   "cell_type": "markdown",
   "metadata": {},
   "source": [
    "#### Set plotting properties "
   ]
  },
  {
   "cell_type": "code",
   "execution_count": 6,
   "metadata": {},
   "outputs": [],
   "source": [
    "bar_kw = dict(kind='bar', color='0.4')\n",
    "line_kw = dict(kind='line', lw=1, alpha=1, legend=True)\n",
    "font_kw = dict(fontsize=11, color='k')\n",
    "grid_kw = dict(linewidth=1, axis=\"y\", zorder=2, antialiased=True)\n",
    "xlab_kw = dict(fontsize=11, labelpad=3)\n",
    "ylab_kw = dict(fontsize=11, labelpad=3)\n",
    "error_kw = dict(elinewidth=2, ecolor='0.15')\n",
    "legend_kw = dict(frameon=False)\n",
    "tick_kw = dict(size=5,\n",
    "               which='both',\n",
    "               direction='out',\n",
    "               right=False,\n",
    "               top=False,\n",
    "               labelbottom=True)"
   ]
  },
  {
   "cell_type": "markdown",
   "metadata": {},
   "source": [
    "#### Retrieving dataframe"
   ]
  },
  {
   "cell_type": "code",
   "execution_count": 7,
   "metadata": {},
   "outputs": [],
   "source": [
    "DATA = os.path.join(\n",
    "    FINAL_DATA_FOLDER, \n",
    "    'fair_advice_final.feather'\n",
    ")\n",
    "\n",
    "df = pd.read_feather(DATA)"
   ]
  },
  {
   "cell_type": "markdown",
   "metadata": {
    "pycharm": {
     "name": "#%% md\n"
    }
   },
   "source": [
    "#### Select only dictators and no-risk treatments"
   ]
  },
  {
   "cell_type": "code",
   "execution_count": 8,
   "metadata": {},
   "outputs": [
    {
     "name": "stdout",
     "output_type": "stream",
     "text": [
      "<class 'pandas.core.frame.DataFrame'>\n",
      "Int64Index: 903 entries, 1799 to 3597\n",
      "Data columns (total 28 columns):\n",
      " #   Column                    Non-Null Count  Dtype         \n",
      "---  ------                    --------------  -----         \n",
      " 0   Dataset                   903 non-null    int64         \n",
      " 1   SubmitTime                903 non-null    datetime64[ns]\n",
      " 2   Duration                  903 non-null    int64         \n",
      " 3   Controlquestion           903 non-null    float64       \n",
      " 4   Controlquestion_attempts  903 non-null    float64       \n",
      " 5   Treatment                 903 non-null    int64         \n",
      " 6   Treatment_name            903 non-null    object        \n",
      " 7   Dictator                  903 non-null    int64         \n",
      " 8   Decision                  903 non-null    int64         \n",
      " 9   Advise                    0 non-null      float64       \n",
      " 10  Follow                    0 non-null      float64       \n",
      " 11  Belief1                   302 non-null    float64       \n",
      " 12  Belief2                   302 non-null    float64       \n",
      " 13  Age                       903 non-null    int64         \n",
      " 14  Female                    903 non-null    int64         \n",
      " 15  Education                 903 non-null    int64         \n",
      " 16  Political                 903 non-null    int64         \n",
      " 17  Trust_requester           903 non-null    float64       \n",
      " 18  Motivation                899 non-null    object        \n",
      " 19  Risk                      903 non-null    int64         \n",
      " 20  Base                      903 non-null    int64         \n",
      " 21  Binding                   903 non-null    int64         \n",
      " 22  Free                      903 non-null    int64         \n",
      " 23  Risk_type                 903 non-null    object        \n",
      " 24  Advice_type               903 non-null    object        \n",
      " 25  Age_m                     903 non-null    int64         \n",
      " 26  Education_m               903 non-null    int64         \n",
      " 27  Political_m               903 non-null    int64         \n",
      "dtypes: datetime64[ns](1), float64(7), int64(16), object(4)\n",
      "memory usage: 204.6+ KB\n"
     ]
    }
   ],
   "source": [
    "df = df[(df['Dictator'] == 1) & (df['Risk'] == 0)]\n",
    "df.info()"
   ]
  },
  {
   "cell_type": "markdown",
   "metadata": {},
   "source": [
    "#### Group according to treatments"
   ]
  },
  {
   "cell_type": "code",
   "execution_count": 9,
   "metadata": {},
   "outputs": [],
   "source": [
    "grouped_advice = df.groupby('Advice_type')"
   ]
  },
  {
   "cell_type": "markdown",
   "metadata": {},
   "source": [
    "#### Control questions attempts"
   ]
  },
  {
   "cell_type": "code",
   "execution_count": 10,
   "metadata": {},
   "outputs": [
    {
     "data": {
      "text/plain": [
       "Advice_type  Controlquestion_attempts\n",
       "Base         0.0                         304\n",
       "Binding      0.0                         295\n",
       "             1.0                           2\n",
       "Free         0.0                         302\n",
       "Name: Controlquestion_attempts, dtype: int64"
      ]
     },
     "execution_count": 10,
     "metadata": {},
     "output_type": "execute_result"
    }
   ],
   "source": [
    "grouped_advice['Controlquestion_attempts'].value_counts()"
   ]
  },
  {
   "cell_type": "markdown",
   "metadata": {},
   "source": [
    "#### Proportion of players who choose selfish"
   ]
  },
  {
   "cell_type": "code",
   "execution_count": 11,
   "metadata": {
    "scrolled": true
   },
   "outputs": [
    {
     "data": {
      "text/html": [
       "<div>\n",
       "<style scoped>\n",
       "    .dataframe tbody tr th:only-of-type {\n",
       "        vertical-align: middle;\n",
       "    }\n",
       "\n",
       "    .dataframe tbody tr th {\n",
       "        vertical-align: top;\n",
       "    }\n",
       "\n",
       "    .dataframe thead th {\n",
       "        text-align: right;\n",
       "    }\n",
       "</style>\n",
       "<table border=\"1\" class=\"dataframe\">\n",
       "  <thead>\n",
       "    <tr style=\"text-align: right;\">\n",
       "      <th></th>\n",
       "      <th>mean</th>\n",
       "      <th>sem</th>\n",
       "      <th>count</th>\n",
       "    </tr>\n",
       "    <tr>\n",
       "      <th>Advice_type</th>\n",
       "      <th></th>\n",
       "      <th></th>\n",
       "      <th></th>\n",
       "    </tr>\n",
       "  </thead>\n",
       "  <tbody>\n",
       "    <tr>\n",
       "      <th>Base</th>\n",
       "      <td>0.553</td>\n",
       "      <td>0.029</td>\n",
       "      <td>304</td>\n",
       "    </tr>\n",
       "    <tr>\n",
       "      <th>Binding</th>\n",
       "      <td>0.418</td>\n",
       "      <td>0.029</td>\n",
       "      <td>297</td>\n",
       "    </tr>\n",
       "    <tr>\n",
       "      <th>Free</th>\n",
       "      <td>0.354</td>\n",
       "      <td>0.028</td>\n",
       "      <td>302</td>\n",
       "    </tr>\n",
       "  </tbody>\n",
       "</table>\n",
       "</div>"
      ],
      "text/plain": [
       "              mean    sem  count\n",
       "Advice_type                     \n",
       "Base         0.553  0.029    304\n",
       "Binding      0.418  0.029    297\n",
       "Free         0.354  0.028    302"
      ]
     },
     "metadata": {},
     "output_type": "display_data"
    }
   ],
   "source": [
    "decision_advice = grouped_advice['Decision']\\\n",
    "    .agg(['mean', 'sem', 'count'])\\\n",
    "    .rename(lambda x: x.capitalize(), axis=0)\n",
    "\n",
    "display(decision_advice)"
   ]
  },
  {
   "cell_type": "markdown",
   "metadata": {
    "pycharm": {
     "name": "#%% md\n"
    }
   },
   "source": [
    "#### Pairwise proportion Z-test for proportion of selfish players"
   ]
  },
  {
   "cell_type": "code",
   "execution_count": 12,
   "metadata": {
    "pycharm": {
     "name": "#%%\n"
    }
   },
   "outputs": [
    {
     "name": "stdout",
     "output_type": "stream",
     "text": [
      "Base vs. Binding: Z-stat: 3.314, P-value: 0.001\n",
      "Base vs. Free: Z-stat: 4.903, P-value: 0.000\n",
      "Binding vs. Free: Z-stat: 1.589, P-value: 0.112\n"
     ]
    }
   ],
   "source": [
    "for group_1, group_2 in combinations(['Base', 'Binding', 'Free'], 2):\n",
    "    nobs = ((df[f'{group_1}'] == 1).sum()), ((df[f'{group_2}'] == 1).sum())\n",
    "    count_selfish = df[df[f'{group_1}'] == 1]['Decision'].sum(), df[df[f'{group_2}'] == 1]['Decision'].sum()\n",
    "    zstat, pvalue = proportions_ztest(count_selfish, nobs)\n",
    "    print(f'{group_1} vs. {group_2}: Z-stat: {zstat:.3f}, P-value: {pvalue:.3f}')"
   ]
  },
  {
   "cell_type": "markdown",
   "metadata": {},
   "source": [
    "#### Plot share of selfish choices"
   ]
  },
  {
   "cell_type": "code",
   "execution_count": 24,
   "metadata": {
    "scrolled": false
   },
   "outputs": [
    {
     "data": {
      "image/png": "[encoded data removed]",
      "text/plain": [
       "<Figure size 800x600 with 1 Axes>"
      ]
     },
     "metadata": {},
     "output_type": "display_data"
    }
   ],
   "source": [
    "fig, ax = plt.subplots(\n",
    "    figsize=(8, 6), \n",
    "    dpi=100, \n",
    "    facecolor='w'\n",
    ")\n",
    "\n",
    "decision_advice['mean'].plot(\n",
    "    yerr=decision_advice['sem'], \n",
    "    ax=ax, \n",
    "    error_kw=error_kw, \n",
    "    **bar_kw\n",
    ")\n",
    "\n",
    "ax.set_ylabel(\"Proportion choosing 'Option B' +/- SE(mean)\", **ylab_kw)\n",
    "ax.set_xlabel(\"\")\n",
    "ax.set_xticklabels(['Baseline', 'Binding advice', 'Free advice'])\n",
    "ax.tick_params(rotation=0, **tick_kw)\n",
    "ax.yaxis.set_major_formatter(FuncFormatter(lambda y, _: '{:.0%}'.format(y)))\n",
    "\n",
    "path = os.path.join(\n",
    "    FIGURES_FOLDER,  \n",
    "    'decision_advice.pdf'\n",
    ")\n",
    "fig.savefig(path, bbox_inches='tight')"
   ]
  },
  {
   "cell_type": "markdown",
   "metadata": {},
   "source": [
    "#### Table 3: Estimating treatment effects using OLS <a id='quantity'></a>"
   ]
  },
  {
   "cell_type": "code",
   "execution_count": 14,
   "metadata": {
    "pycharm": {
     "name": "#%%\n"
    }
   },
   "outputs": [
    {
     "data": {
      "text/html": [
       "<div>\n",
       "<style scoped>\n",
       "    .dataframe tbody tr th:only-of-type {\n",
       "        vertical-align: middle;\n",
       "    }\n",
       "\n",
       "    .dataframe tbody tr th {\n",
       "        vertical-align: top;\n",
       "    }\n",
       "\n",
       "    .dataframe thead th {\n",
       "        text-align: right;\n",
       "    }\n",
       "</style>\n",
       "<table border=\"1\" class=\"dataframe\">\n",
       "  <thead>\n",
       "    <tr style=\"text-align: right;\">\n",
       "      <th>Dependent variable:</th>\n",
       "      <th>Decision</th>\n",
       "      <th>Decision</th>\n",
       "    </tr>\n",
       "  </thead>\n",
       "  <tbody>\n",
       "    <tr>\n",
       "      <th>Binding</th>\n",
       "      <td>-0.135***</td>\n",
       "      <td>-0.133***</td>\n",
       "    </tr>\n",
       "    <tr>\n",
       "      <th></th>\n",
       "      <td>(0.040)</td>\n",
       "      <td>(0.040)</td>\n",
       "    </tr>\n",
       "    <tr>\n",
       "      <th>Free</th>\n",
       "      <td>-0.198***</td>\n",
       "      <td>-0.198***</td>\n",
       "    </tr>\n",
       "    <tr>\n",
       "      <th></th>\n",
       "      <td>(0.040)</td>\n",
       "      <td>(0.040)</td>\n",
       "    </tr>\n",
       "    <tr>\n",
       "      <th>Age_m</th>\n",
       "      <td></td>\n",
       "      <td>-0.039</td>\n",
       "    </tr>\n",
       "    <tr>\n",
       "      <th></th>\n",
       "      <td></td>\n",
       "      <td>(0.033)</td>\n",
       "    </tr>\n",
       "    <tr>\n",
       "      <th>Female</th>\n",
       "      <td></td>\n",
       "      <td>-0.126***</td>\n",
       "    </tr>\n",
       "    <tr>\n",
       "      <th></th>\n",
       "      <td></td>\n",
       "      <td>(0.033)</td>\n",
       "    </tr>\n",
       "    <tr>\n",
       "      <th>Education_m</th>\n",
       "      <td></td>\n",
       "      <td>-0.014</td>\n",
       "    </tr>\n",
       "    <tr>\n",
       "      <th></th>\n",
       "      <td></td>\n",
       "      <td>(0.033)</td>\n",
       "    </tr>\n",
       "    <tr>\n",
       "      <th>Political_m</th>\n",
       "      <td></td>\n",
       "      <td>-0.006</td>\n",
       "    </tr>\n",
       "    <tr>\n",
       "      <th></th>\n",
       "      <td></td>\n",
       "      <td>(0.033)</td>\n",
       "    </tr>\n",
       "    <tr>\n",
       "      <th>Intercept</th>\n",
       "      <td>0.553***</td>\n",
       "      <td>0.642***</td>\n",
       "    </tr>\n",
       "    <tr>\n",
       "      <th></th>\n",
       "      <td>(0.029)</td>\n",
       "      <td>(0.042)</td>\n",
       "    </tr>\n",
       "    <tr>\n",
       "      <th>R-squared</th>\n",
       "      <td>0.028</td>\n",
       "      <td>0.047</td>\n",
       "    </tr>\n",
       "    <tr>\n",
       "      <th>R-squared Adj.</th>\n",
       "      <td>0.026</td>\n",
       "      <td>0.041</td>\n",
       "    </tr>\n",
       "    <tr>\n",
       "      <th>N</th>\n",
       "      <td>903</td>\n",
       "      <td>903</td>\n",
       "    </tr>\n",
       "    <tr>\n",
       "      <th>F</th>\n",
       "      <td>12.912</td>\n",
       "      <td>7.613</td>\n",
       "    </tr>\n",
       "    <tr>\n",
       "      <th>P(&gt;F)</th>\n",
       "      <td>0.000</td>\n",
       "      <td>0.000</td>\n",
       "    </tr>\n",
       "  </tbody>\n",
       "</table>\n",
       "</div>"
      ],
      "text/plain": [
       "Dependent variable:   Decision   Decision\n",
       "Binding              -0.135***  -0.133***\n",
       "                       (0.040)    (0.040)\n",
       "Free                 -0.198***  -0.198***\n",
       "                       (0.040)    (0.040)\n",
       "Age_m                              -0.039\n",
       "                                  (0.033)\n",
       "Female                          -0.126***\n",
       "                                  (0.033)\n",
       "Education_m                        -0.014\n",
       "                                  (0.033)\n",
       "Political_m                        -0.006\n",
       "                                  (0.033)\n",
       "Intercept             0.553***   0.642***\n",
       "                       (0.029)    (0.042)\n",
       "R-squared                0.028      0.047\n",
       "R-squared Adj.           0.026      0.041\n",
       "N                          903        903\n",
       "F                       12.912      7.613\n",
       "P(>F)                    0.000      0.000"
      ]
     },
     "metadata": {},
     "output_type": "display_data"
    }
   ],
   "source": [
    "regs = dict()\n",
    "regs['reg1'] = 'Decision ~ Binding + Free'\n",
    "regs['reg2'] = regs['reg1'] + ' + Age_m + Female + Education_m + Political_m'\n",
    "\n",
    "ols_results = [smf.ols(formula=v, data=df).fit(cov_type='HC1') for v in regs.values()]\n",
    "\n",
    "order = [\n",
    "    'Binding',\n",
    "    'Free',\n",
    "    'Age_m',\n",
    "    'Female',\n",
    "    'Education_m',\n",
    "    'Political_m',\n",
    "    'Intercept',\n",
    "]\n",
    "\n",
    "auxiliary = {\n",
    "    'N': lambda x: f'{x.nobs:.0f}',\n",
    "    'F': lambda x: f'{x.fvalue:.3f}',\n",
    "    'P(>F)': lambda x: f'{x.f_pvalue:.3f}'\n",
    "}\n",
    "\n",
    "ols_quant = summary_col(\n",
    "    ols_results,\n",
    "    stars=True,\n",
    "    info_dict=auxiliary,\n",
    "    float_format='%.3f',\n",
    "    regressor_order=order,\n",
    ")\n",
    "\n",
    "ols_quant = ols_quant\\\n",
    "    .tables[0]\\\n",
    "    .rename(mapper=lambda x: x.replace(':', ' * '), axis=0)\\\n",
    "    .rename(mapper=lambda x: x.split()[0].replace('decision_numeric', 'p(selfish)'), axis=1)\\\n",
    "    .rename_axis('Dependent variable:', axis=1)\n",
    "\n",
    "ols_quant.to_latex(\n",
    "    os.path.join(TABLES_FOLDER, 'ols_decision.tex'),\n",
    "    bold_rows=False,\n",
    "    float_format=\"%.3f\"\n",
    ")\n",
    "\n",
    "display(ols_quant)"
   ]
  },
  {
   "cell_type": "markdown",
   "metadata": {},
   "source": [
    "#### Estimate linear combination for difference in treatment dummies."
   ]
  },
  {
   "cell_type": "code",
   "execution_count": 17,
   "metadata": {},
   "outputs": [
    {
     "data": {
      "text/html": [
       "<table class=\"simpletable\">\n",
       "<caption>Test for Constraints</caption>\n",
       "<tr>\n",
       "   <td></td>     <th>coef</th>     <th>std err</th>      <th>z</th>      <th>P>|z|</th>  <th>[0.025</th>    <th>0.975]</th>  \n",
       "</tr>\n",
       "<tr>\n",
       "  <th>c0</th> <td>   -0.0632</td> <td>    0.040</td> <td>   -1.589</td> <td> 0.112</td> <td>   -0.141</td> <td>    0.015</td>\n",
       "</tr>\n",
       "</table>"
      ],
      "text/plain": [
       "<class 'statsmodels.iolib.table.SimpleTable'>"
      ]
     },
     "execution_count": 17,
     "metadata": {},
     "output_type": "execute_result"
    }
   ],
   "source": [
    "ols_results[0].t_test('Free - Binding = 0').summary()"
   ]
  },
  {
   "cell_type": "code",
   "execution_count": 18,
   "metadata": {},
   "outputs": [
    {
     "data": {
      "text/html": [
       "<table class=\"simpletable\">\n",
       "<caption>Test for Constraints</caption>\n",
       "<tr>\n",
       "   <td></td>     <th>coef</th>     <th>std err</th>      <th>z</th>      <th>P>|z|</th>  <th>[0.025</th>    <th>0.975]</th>  \n",
       "</tr>\n",
       "<tr>\n",
       "  <th>c0</th> <td>   -0.0646</td> <td>    0.039</td> <td>   -1.639</td> <td> 0.101</td> <td>   -0.142</td> <td>    0.013</td>\n",
       "</tr>\n",
       "</table>"
      ],
      "text/plain": [
       "<class 'statsmodels.iolib.table.SimpleTable'>"
      ]
     },
     "execution_count": 18,
     "metadata": {},
     "output_type": "execute_result"
    }
   ],
   "source": [
    "ols_results[1].t_test('Free - Binding = 0').summary()"
   ]
  },
  {
   "cell_type": "markdown",
   "metadata": {},
   "source": [
    "#### Tabulate share of selfish choices, by gender"
   ]
  },
  {
   "cell_type": "code",
   "execution_count": 20,
   "metadata": {
    "pycharm": {
     "name": "#%%\n"
    }
   },
   "outputs": [
    {
     "data": {
      "text/html": [
       "<div>\n",
       "<style scoped>\n",
       "    .dataframe tbody tr th:only-of-type {\n",
       "        vertical-align: middle;\n",
       "    }\n",
       "\n",
       "    .dataframe tbody tr th {\n",
       "        vertical-align: top;\n",
       "    }\n",
       "\n",
       "    .dataframe thead th {\n",
       "        text-align: right;\n",
       "    }\n",
       "</style>\n",
       "<table border=\"1\" class=\"dataframe\">\n",
       "  <thead>\n",
       "    <tr style=\"text-align: right;\">\n",
       "      <th></th>\n",
       "      <th></th>\n",
       "      <th>mean</th>\n",
       "      <th>sem</th>\n",
       "      <th>count</th>\n",
       "    </tr>\n",
       "    <tr>\n",
       "      <th>Treatment</th>\n",
       "      <th>Gender</th>\n",
       "      <th></th>\n",
       "      <th></th>\n",
       "      <th></th>\n",
       "    </tr>\n",
       "  </thead>\n",
       "  <tbody>\n",
       "    <tr>\n",
       "      <th rowspan=\"2\" valign=\"top\">Base</th>\n",
       "      <th>Female</th>\n",
       "      <td>0.490</td>\n",
       "      <td>0.041</td>\n",
       "      <td>149</td>\n",
       "    </tr>\n",
       "    <tr>\n",
       "      <th>Male</th>\n",
       "      <td>0.613</td>\n",
       "      <td>0.039</td>\n",
       "      <td>155</td>\n",
       "    </tr>\n",
       "    <tr>\n",
       "      <th rowspan=\"2\" valign=\"top\">Binding</th>\n",
       "      <th>Female</th>\n",
       "      <td>0.331</td>\n",
       "      <td>0.039</td>\n",
       "      <td>148</td>\n",
       "    </tr>\n",
       "    <tr>\n",
       "      <th>Male</th>\n",
       "      <td>0.503</td>\n",
       "      <td>0.041</td>\n",
       "      <td>149</td>\n",
       "    </tr>\n",
       "    <tr>\n",
       "      <th rowspan=\"2\" valign=\"top\">Free</th>\n",
       "      <th>Female</th>\n",
       "      <td>0.305</td>\n",
       "      <td>0.038</td>\n",
       "      <td>151</td>\n",
       "    </tr>\n",
       "    <tr>\n",
       "      <th>Male</th>\n",
       "      <td>0.404</td>\n",
       "      <td>0.040</td>\n",
       "      <td>151</td>\n",
       "    </tr>\n",
       "  </tbody>\n",
       "</table>\n",
       "</div>"
      ],
      "text/plain": [
       "                   mean    sem  count\n",
       "Treatment Gender                     \n",
       "Base      Female  0.490  0.041    149\n",
       "          Male    0.613  0.039    155\n",
       "Binding   Female  0.331  0.039    148\n",
       "          Male    0.503  0.041    149\n",
       "Free      Female  0.305  0.038    151\n",
       "          Male    0.404  0.040    151"
      ]
     },
     "metadata": {},
     "output_type": "display_data"
    }
   ],
   "source": [
    "decision_gender = df.groupby(['Female', 'Advice_type'])['Decision']\\\n",
    "    .agg(['mean', 'sem', 'count'])\\\n",
    "    .rename({0:'Male', 1:'Female'}, axis=0, level=0)\\\n",
    "    .rename({'base': 'Baseline', 'binding':'Binding advice', 'free':'Free advice'}, axis=0, level=1)\\\n",
    "    .rename_axis(('Gender', 'Treatment'), axis=0)\\\n",
    "    .swaplevel()\\\n",
    "    .sort_index()\n",
    "\n",
    "display(decision_gender)"
   ]
  },
  {
   "cell_type": "markdown",
   "metadata": {},
   "source": [
    "#### Plot share of selfish choices, by gender"
   ]
  },
  {
   "cell_type": "code",
   "execution_count": 23,
   "metadata": {
    "pycharm": {
     "name": "#%%\n"
    }
   },
   "outputs": [
    {
     "data": {
      "image/png": "[encoded data removed]",
      "text/plain": [
       "<Figure size 800x600 with 1 Axes>"
      ]
     },
     "metadata": {},
     "output_type": "display_data"
    }
   ],
   "source": [
    "means = decision_gender\\\n",
    "    .loc[:, 'mean']\\\n",
    "    .unstack()\\\n",
    "    .sort_index(axis=1, ascending=False)\n",
    "\n",
    "errors = decision_gender\\\n",
    "    .loc[:,'sem']\\\n",
    "    .unstack()\\\n",
    "    .sort_index(axis=1, ascending=False)\n",
    "\n",
    "fig, ax = plt.subplots(\n",
    "    figsize=(8, 6), \n",
    "    dpi=100, \n",
    "    facecolor='w'\n",
    ")\n",
    "\n",
    "means.plot(\n",
    "    yerr=errors, \n",
    "    ax=ax, \n",
    "    capsize=4, \n",
    "    kind='bar', \n",
    "    error_kw=error_kw, \n",
    "    color=['0.3', '0.7'], \n",
    "    alpha=0.8, \n",
    "    lw=0.5, \n",
    "    width=0.7\n",
    ")\n",
    "ax.set_ylabel(\"Proportion chosing 'Option B' +/- SE(mean)\", **ylab_kw)\n",
    "ax.set_xlabel(\"\")\n",
    "ax.set_xticklabels(['Baseline', 'Binding advice', 'Free advice'])\n",
    "ax.tick_params(rotation=0, **tick_kw)"
   ]
  },
  {
   "cell_type": "code",
   "execution_count": 25,
   "metadata": {
    "pycharm": {
     "name": "#%%\n"
    }
   },
   "outputs": [
    {
     "data": {
      "text/html": [
       "<div>\n",
       "<style scoped>\n",
       "    .dataframe tbody tr th:only-of-type {\n",
       "        vertical-align: middle;\n",
       "    }\n",
       "\n",
       "    .dataframe tbody tr th {\n",
       "        vertical-align: top;\n",
       "    }\n",
       "\n",
       "    .dataframe thead th {\n",
       "        text-align: right;\n",
       "    }\n",
       "</style>\n",
       "<table border=\"1\" class=\"dataframe\">\n",
       "  <thead>\n",
       "    <tr style=\"text-align: right;\">\n",
       "      <th>Dependent variable</th>\n",
       "      <th>p(selfish)</th>\n",
       "      <th>p(selfish)</th>\n",
       "    </tr>\n",
       "  </thead>\n",
       "  <tbody>\n",
       "    <tr>\n",
       "      <th>Binding</th>\n",
       "      <td>-0.110*</td>\n",
       "      <td>-0.110*</td>\n",
       "    </tr>\n",
       "    <tr>\n",
       "      <th></th>\n",
       "      <td>(0.057)</td>\n",
       "      <td>(0.057)</td>\n",
       "    </tr>\n",
       "    <tr>\n",
       "      <th>Free</th>\n",
       "      <td>-0.209***</td>\n",
       "      <td>-0.210***</td>\n",
       "    </tr>\n",
       "    <tr>\n",
       "      <th></th>\n",
       "      <td>(0.056)</td>\n",
       "      <td>(0.056)</td>\n",
       "    </tr>\n",
       "    <tr>\n",
       "      <th>Female</th>\n",
       "      <td>-0.123**</td>\n",
       "      <td>-0.119**</td>\n",
       "    </tr>\n",
       "    <tr>\n",
       "      <th></th>\n",
       "      <td>(0.057)</td>\n",
       "      <td>(0.057)</td>\n",
       "    </tr>\n",
       "    <tr>\n",
       "      <th>Binding * Female</th>\n",
       "      <td>-0.049</td>\n",
       "      <td>-0.047</td>\n",
       "    </tr>\n",
       "    <tr>\n",
       "      <th></th>\n",
       "      <td>(0.080)</td>\n",
       "      <td>(0.080)</td>\n",
       "    </tr>\n",
       "    <tr>\n",
       "      <th>Free * Female</th>\n",
       "      <td>0.024</td>\n",
       "      <td>0.024</td>\n",
       "    </tr>\n",
       "    <tr>\n",
       "      <th></th>\n",
       "      <td>(0.079)</td>\n",
       "      <td>(0.079)</td>\n",
       "    </tr>\n",
       "    <tr>\n",
       "      <th>Intercept</th>\n",
       "      <td>0.613***</td>\n",
       "      <td>0.638***</td>\n",
       "    </tr>\n",
       "    <tr>\n",
       "      <th></th>\n",
       "      <td>(0.039)</td>\n",
       "      <td>(0.047)</td>\n",
       "    </tr>\n",
       "    <tr>\n",
       "      <th>R-squared</th>\n",
       "      <td>0.046</td>\n",
       "      <td>0.048</td>\n",
       "    </tr>\n",
       "    <tr>\n",
       "      <th>R-squared Adj.</th>\n",
       "      <td>0.041</td>\n",
       "      <td>0.040</td>\n",
       "    </tr>\n",
       "    <tr>\n",
       "      <th>N</th>\n",
       "      <td>903</td>\n",
       "      <td>903</td>\n",
       "    </tr>\n",
       "    <tr>\n",
       "      <th>F</th>\n",
       "      <td>8.976</td>\n",
       "      <td>5.778</td>\n",
       "    </tr>\n",
       "    <tr>\n",
       "      <th>P(&gt;F)</th>\n",
       "      <td>0.000</td>\n",
       "      <td>0.000</td>\n",
       "    </tr>\n",
       "    <tr>\n",
       "      <th>Binding + Binding:Female</th>\n",
       "      <td>-0.159</td>\n",
       "      <td>-0.157</td>\n",
       "    </tr>\n",
       "    <tr>\n",
       "      <th>sd1</th>\n",
       "      <td>(0.057)</td>\n",
       "      <td>(0.057)</td>\n",
       "    </tr>\n",
       "    <tr>\n",
       "      <th>Free + Free:Female</th>\n",
       "      <td>-0.185</td>\n",
       "      <td>-0.186</td>\n",
       "    </tr>\n",
       "    <tr>\n",
       "      <th>sd2</th>\n",
       "      <td>(0.056)</td>\n",
       "      <td>(0.056)</td>\n",
       "    </tr>\n",
       "  </tbody>\n",
       "</table>\n",
       "</div>"
      ],
      "text/plain": [
       "Dependent variable       p(selfish) p(selfish)\n",
       "Binding                     -0.110*    -0.110*\n",
       "                            (0.057)    (0.057)\n",
       "Free                      -0.209***  -0.210***\n",
       "                            (0.056)    (0.056)\n",
       "Female                     -0.123**   -0.119**\n",
       "                            (0.057)    (0.057)\n",
       "Binding * Female             -0.049     -0.047\n",
       "                            (0.080)    (0.080)\n",
       "Free * Female                 0.024      0.024\n",
       "                            (0.079)    (0.079)\n",
       "Intercept                  0.613***   0.638***\n",
       "                            (0.039)    (0.047)\n",
       "R-squared                     0.046      0.048\n",
       "R-squared Adj.                0.041      0.040\n",
       "N                               903        903\n",
       "F                             8.976      5.778\n",
       "P(>F)                         0.000      0.000\n",
       "Binding + Binding:Female     -0.159     -0.157\n",
       "sd1                         (0.057)    (0.057)\n",
       "Free + Free:Female           -0.185     -0.186\n",
       "sd2                         (0.056)    (0.056)"
      ]
     },
     "metadata": {},
     "output_type": "display_data"
    }
   ],
   "source": [
    "regs = dict()\n",
    "regs['reg1'] = 'Decision ~ (Binding + Free) * Female'\n",
    "regs['reg2'] = regs['reg1'] + ' + Age_m + Education_m + Political_m'\n",
    "\n",
    "ols_results = [smf.ols(formula=v, data=df).fit(cov_type='HC1') for v in regs.values()]\n",
    "\n",
    "order = [\n",
    "    'Binding',\n",
    "    'Free',\n",
    "    'Female',\n",
    "    'Binding:Female',\n",
    "    'Free:Female',\n",
    "    'Intercept',\n",
    "]\n",
    "\n",
    "auxiliary = {\n",
    "    'N': lambda x: f'{x.nobs:.0f}',\n",
    "    'F': lambda x: f'{x.fvalue:.3f}',\n",
    "    'P(>F)': lambda x: f'{x.f_pvalue:.3f}'\n",
    "}\n",
    "\n",
    "ols_quant = summary_col(\n",
    "    ols_results,\n",
    "    stars=True,\n",
    "    info_dict=auxiliary,\n",
    "    float_format='%.3f',\n",
    "    regressor_order=order,\n",
    "    drop_omitted=True,\n",
    ")\n",
    "\n",
    "ols_quant = ols_quant\\\n",
    "    .tables[0]\\\n",
    "    .rename(mapper=lambda x: x.replace(':', ' * '), axis=0)\\\n",
    "    .rename(mapper=lambda x: x.split()[0].replace('Decision', 'p(selfish)'), axis=1)\\\n",
    "    .rename_axis('Dependent variable', axis=1)\n",
    "\n",
    "# this is bad\n",
    "h1 = ols_results[0].t_test('Binding + Binding:Female = 0')\n",
    "h2 = ols_results[1].t_test('Binding + Binding:Female = 0')\n",
    "h3 = ols_results[0].t_test('Free + Free:Female = 0')\n",
    "h4 = ols_results[1].t_test('Free + Free:Female = 0')\n",
    "\n",
    "ols_quant.loc['Binding + Binding:Female'] = pd.Series(\n",
    "    [f'{h1.effect[0]:.3f}', f'{h2.effect[0]:.3f}'],\n",
    "    index=ols_quant.columns\n",
    ")\n",
    "ols_quant.loc['sd1'] = pd.Series(\n",
    "    [f'({h1.sd[0][0]:.3f})', f'({h2.sd[0][0]:.3f})'],\n",
    "    index=ols_quant.columns\n",
    ")\n",
    "ols_quant.loc['Free + Free:Female'] = pd.Series(\n",
    "    [f'{h3.effect[0]:.3f}', f'{h4.effect[0]:.3f}'],\n",
    "    index=ols_quant.columns\n",
    ")\n",
    "ols_quant.loc['sd2'] = pd.Series(\n",
    "    [f'({h3.sd[0][0]:.3f})', f'({h4.sd[0][0]:.3f})'],\n",
    "    index=ols_quant.columns\n",
    ")\n",
    "\n",
    "ols_quant.to_latex(\n",
    "    os.path.join(TABLES_FOLDER, 'ols_decision_female.tex'),\n",
    "    bold_rows=False,\n",
    "    float_format=\"%.3f\",\n",
    "    caption='Estimating the probability of player X to choose the selfish option, by gender',\n",
    "    label='decision_female',\n",
    ")\n",
    "\n",
    "display(ols_quant)"
   ]
  },
  {
   "cell_type": "markdown",
   "metadata": {
    "pycharm": {
     "name": "#%% md\n"
    }
   },
   "source": [
    "#### Probit"
   ]
  },
  {
   "cell_type": "code",
   "execution_count": 26,
   "metadata": {
    "pycharm": {
     "name": "#%%\n"
    }
   },
   "outputs": [
    {
     "name": "stdout",
     "output_type": "stream",
     "text": [
      "Optimization terminated successfully.\n",
      "         Current function value: 0.672375\n",
      "         Iterations 4\n",
      "Optimization terminated successfully.\n",
      "         Current function value: 0.662443\n",
      "         Iterations 4\n"
     ]
    },
    {
     "data": {
      "text/html": [
       "<div>\n",
       "<style scoped>\n",
       "    .dataframe tbody tr th:only-of-type {\n",
       "        vertical-align: middle;\n",
       "    }\n",
       "\n",
       "    .dataframe tbody tr th {\n",
       "        vertical-align: top;\n",
       "    }\n",
       "\n",
       "    .dataframe thead th {\n",
       "        text-align: right;\n",
       "    }\n",
       "</style>\n",
       "<table border=\"1\" class=\"dataframe\">\n",
       "  <thead>\n",
       "    <tr style=\"text-align: right;\">\n",
       "      <th>Dependent variable:</th>\n",
       "      <th>p(selfish)</th>\n",
       "      <th>p(selfish)</th>\n",
       "    </tr>\n",
       "  </thead>\n",
       "  <tbody>\n",
       "    <tr>\n",
       "      <th>Binding</th>\n",
       "      <td>-0.341***</td>\n",
       "      <td>-0.341***</td>\n",
       "    </tr>\n",
       "    <tr>\n",
       "      <th></th>\n",
       "      <td>(0.103)</td>\n",
       "      <td>(0.104)</td>\n",
       "    </tr>\n",
       "    <tr>\n",
       "      <th>Free</th>\n",
       "      <td>-0.506***</td>\n",
       "      <td>-0.512***</td>\n",
       "    </tr>\n",
       "    <tr>\n",
       "      <th></th>\n",
       "      <td>(0.103)</td>\n",
       "      <td>(0.104)</td>\n",
       "    </tr>\n",
       "    <tr>\n",
       "      <th>Age_m</th>\n",
       "      <td></td>\n",
       "      <td>-0.101</td>\n",
       "    </tr>\n",
       "    <tr>\n",
       "      <th></th>\n",
       "      <td></td>\n",
       "      <td>(0.087)</td>\n",
       "    </tr>\n",
       "    <tr>\n",
       "      <th>Female</th>\n",
       "      <td></td>\n",
       "      <td>-0.329***</td>\n",
       "    </tr>\n",
       "    <tr>\n",
       "      <th></th>\n",
       "      <td></td>\n",
       "      <td>(0.086)</td>\n",
       "    </tr>\n",
       "    <tr>\n",
       "      <th>Education_m</th>\n",
       "      <td></td>\n",
       "      <td>-0.037</td>\n",
       "    </tr>\n",
       "    <tr>\n",
       "      <th></th>\n",
       "      <td></td>\n",
       "      <td>(0.085)</td>\n",
       "    </tr>\n",
       "    <tr>\n",
       "      <th>Political_m</th>\n",
       "      <td></td>\n",
       "      <td>-0.015</td>\n",
       "    </tr>\n",
       "    <tr>\n",
       "      <th></th>\n",
       "      <td></td>\n",
       "      <td>(0.086)</td>\n",
       "    </tr>\n",
       "    <tr>\n",
       "      <th>Intercept</th>\n",
       "      <td>0.132*</td>\n",
       "      <td>0.367***</td>\n",
       "    </tr>\n",
       "    <tr>\n",
       "      <th></th>\n",
       "      <td>(0.072)</td>\n",
       "      <td>(0.107)</td>\n",
       "    </tr>\n",
       "    <tr>\n",
       "      <th>N</th>\n",
       "      <td>903</td>\n",
       "      <td>903</td>\n",
       "    </tr>\n",
       "    <tr>\n",
       "      <th>PR2</th>\n",
       "      <td>0.020</td>\n",
       "      <td>0.035</td>\n",
       "    </tr>\n",
       "  </tbody>\n",
       "</table>\n",
       "</div>"
      ],
      "text/plain": [
       "Dependent variable: p(selfish) p(selfish)\n",
       "Binding              -0.341***  -0.341***\n",
       "                       (0.103)    (0.104)\n",
       "Free                 -0.506***  -0.512***\n",
       "                       (0.103)    (0.104)\n",
       "Age_m                              -0.101\n",
       "                                  (0.087)\n",
       "Female                          -0.329***\n",
       "                                  (0.086)\n",
       "Education_m                        -0.037\n",
       "                                  (0.085)\n",
       "Political_m                        -0.015\n",
       "                                  (0.086)\n",
       "Intercept               0.132*   0.367***\n",
       "                       (0.072)    (0.107)\n",
       "N                          903        903\n",
       "PR2                      0.020      0.035"
      ]
     },
     "metadata": {},
     "output_type": "display_data"
    }
   ],
   "source": [
    "regs = dict()\n",
    "regs['reg1'] = 'Decision ~ Binding + Free'\n",
    "regs['reg2'] = regs['reg1'] + ' + Age_m + Female + Education_m + Political_m'\n",
    "\n",
    "probit_results = [\n",
    "    smf.probit(formula=v, data=df).fit() for v in regs.values()\n",
    "]\n",
    "\n",
    "order = [\n",
    "    'Binding',\n",
    "    'Free',\n",
    "    'Age_m',\n",
    "    'Female',\n",
    "    'Education_m',\n",
    "    'Political_m',\n",
    "    'Intercept',\n",
    "]\n",
    "\n",
    "auxiliary = {\n",
    "    'N': lambda x: f'{x.nobs:.0f}',\n",
    "    'PR2': lambda x: f'{x.prsquared:.3f}',\n",
    "}\n",
    "\n",
    "probit_decision = summary_col(\n",
    "    probit_results,\n",
    "    stars=True,\n",
    "    info_dict=auxiliary,\n",
    "    float_format='%.3f',\n",
    "    regressor_order=order,\n",
    ")\n",
    "\n",
    "probit_decision = probit_decision\\\n",
    "    .tables[0]\\\n",
    "    .rename(mapper=lambda x: x.replace(':', ' * '), axis=0)\\\n",
    "    .rename(mapper=lambda x: x.split()[0].replace('Decision', 'p(selfish)'), axis=1)\\\n",
    "    .rename_axis('Dependent variable:', axis=1)\n",
    "\n",
    "probit_decision.to_latex(\n",
    "    os.path.join(TABLES_FOLDER, 'probit_decision.tex'),\n",
    "    bold_rows=False,\n",
    "    float_format=\"%.3f\"\n",
    ")\n",
    "\n",
    "display(probit_decision)"
   ]
  },
  {
   "cell_type": "markdown",
   "metadata": {},
   "source": [
    "#### Convert to html"
   ]
  },
  {
   "cell_type": "code",
   "execution_count": 27,
   "metadata": {
    "scrolled": false
   },
   "outputs": [
    {
     "name": "stdout",
     "output_type": "stream",
     "text": [
      "[NbConvertApp] Converting notebook 3_treatment_effects.ipynb to html\n",
      "[NbConvertApp] Writing 719653 bytes to docs/3_treatment_effects.html\n"
     ]
    }
   ],
   "source": [
    "!jupyter nbconvert --output-dir='./docs' --to html 3_treatment_effects.ipynb"
   ]
  }
 ],
 "metadata": {
  "hide_input": false,
  "kernelspec": {
   "display_name": "Python 3",
   "language": "python",
   "name": "python3"
  },
  "language_info": {
   "codemirror_mode": {
    "name": "ipython",
    "version": 3
   },
   "file_extension": ".py",
   "mimetype": "text/x-python",
   "name": "python",
   "nbconvert_exporter": "python",
   "pygments_lexer": "ipython3",
   "version": "3.8.10"
  }
 },
 "nbformat": 4,
 "nbformat_minor": 2
}
