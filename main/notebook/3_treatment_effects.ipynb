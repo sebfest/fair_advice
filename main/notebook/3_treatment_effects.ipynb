{
 "cells": [
  {
   "cell_type": "markdown",
   "metadata": {},
   "source": [
    "### List of tables:\n",
    "\n",
    "\n",
    "1. [Table 2: Regressing the probability of player X to choose the selfish option](#selfish_reg)\n",
    "\n",
    "\n",
    "### List of figures:\n",
    "\n",
    "2. [Figure 2: Proportion of players chosing the selfish option](#selfish_bar)"
   ]
  },
  {
   "cell_type": "markdown",
   "metadata": {},
   "source": [
    "#### Imports libraries"
   ]
  },
  {
   "cell_type": "code",
   "execution_count": 1,
   "metadata": {},
   "outputs": [],
   "source": [
    "import matplotlib.pyplot as plt #plotting\n",
    "import os #file system handling\n",
    "import pandas as pd #dataframe handling\n",
    "import statsmodels.api as sm #regression analysis\n",
    "import statsmodels.formula.api as smf # regressions analysis\n",
    "\n",
    "from matplotlib.ticker import FuncFormatter #formating graphs \n",
    "from scipy import stats #statistics module\n",
    "from statsmodels.iolib.summary2 import summary_col #regression output table\n",
    "from statsmodels.stats.anova import anova_lm #regression anova table\n",
    "from statsmodels.stats.multicomp import MultiComparison #multi-comparisson tests "
   ]
  },
  {
   "cell_type": "markdown",
   "metadata": {},
   "source": [
    "#### Set project directory"
   ]
  },
  {
   "cell_type": "code",
   "execution_count": 2,
   "metadata": {},
   "outputs": [],
   "source": [
    "PROJECT_FOLDER = os.path.abspath(os.path.join(os.getcwd(), os.pardir))\n",
    "FINAL_DATA_FOLDER = os.path.join(PROJECT_FOLDER, 'data', 'final')\n",
    "TABLES_FOLDER = os.path.join(PROJECT_FOLDER, 'reports', 'tables')\n",
    "FIGURES_FOLDER = os.path.join(PROJECT_FOLDER, 'reports', 'figures')"
   ]
  },
  {
   "cell_type": "markdown",
   "metadata": {},
   "source": [
    "#### Set display format"
   ]
  },
  {
   "cell_type": "code",
   "execution_count": 3,
   "metadata": {},
   "outputs": [],
   "source": [
    "pd.options.display.float_format = '{:.3f}'.format"
   ]
  },
  {
   "cell_type": "markdown",
   "metadata": {},
   "source": [
    "#### Set plotting style"
   ]
  },
  {
   "cell_type": "code",
   "execution_count": 4,
   "metadata": {},
   "outputs": [],
   "source": [
    "plt.style.use('classic')"
   ]
  },
  {
   "cell_type": "markdown",
   "metadata": {},
   "source": [
    "#### Set plotting properties "
   ]
  },
  {
   "cell_type": "code",
   "execution_count": 5,
   "metadata": {},
   "outputs": [],
   "source": [
    "bar_kwargs = dict(kind='bar', color='0.4', alpha=0.8, lw=0.5, width=0.7)\n",
    "line_kwargs = dict(kind='line', lw=1, alpha=1, legend=True)\n",
    "tick_kwargs = dict(size=5, which='both', right=False, top=False, direction='out', labelbottom=True)\n",
    "font_kwargs = dict(fontsize=11, color='k')\n",
    "grid_kwargs = dict(linewidth=1, axis=\"y\", zorder=2, antialiased=True)\n",
    "xlabel_kwargs = dict(fontsize=11, labelpad=3)\n",
    "ylabel_kwargs = dict(fontsize=11, labelpad=3)\n",
    "e_kwargs = dict(elinewidth=2, ecolor='0.15')\n",
    "legend_kwargs = dict(frameon=False)"
   ]
  },
  {
   "cell_type": "markdown",
   "metadata": {},
   "source": [
    "#### Retrieving dataframe"
   ]
  },
  {
   "cell_type": "code",
   "execution_count": 6,
   "metadata": {},
   "outputs": [
    {
     "name": "stdout",
     "output_type": "stream",
     "text": [
      "<class 'pandas.core.frame.DataFrame'>\n",
      "RangeIndex: 3598 entries, 0 to 3597\n",
      "Data columns (total 24 columns):\n",
      "Dataset                     3598 non-null int64\n",
      "SubmitTime                  3598 non-null datetime64[ns]\n",
      "Duration                    3598 non-null int64\n",
      "Controlquestion             1799 non-null float64\n",
      "Controlquestion_attempts    1799 non-null float64\n",
      "Treatment                   3598 non-null int64\n",
      "Treatment_name              3598 non-null object\n",
      "Dictator                    3598 non-null int64\n",
      "Decision                    3598 non-null int64\n",
      "Advise                      3598 non-null int64\n",
      "Follow                      1799 non-null float64\n",
      "Belief1                     598 non-null float64\n",
      "Belief2                     598 non-null float64\n",
      "Age                         3598 non-null int64\n",
      "Female                      3598 non-null int64\n",
      "Education                   3598 non-null int64\n",
      "Political                   3598 non-null int64\n",
      "Trust_requester             1799 non-null float64\n",
      "Motivation                  1793 non-null object\n",
      "Risk                        3598 non-null int64\n",
      "Dictate                     3598 non-null int64\n",
      "Framed                      3598 non-null int64\n",
      "Treatment_first             3598 non-null object\n",
      "Treatment_second            3598 non-null object\n",
      "dtypes: datetime64[ns](1), float64(6), int64(13), object(4)\n",
      "memory usage: 674.8+ KB\n"
     ]
    }
   ],
   "source": [
    "DATA = os.path.join(FINAL_DATA_FOLDER, 'fair_advice_final.feather')\n",
    "df = pd.read_feather(DATA)\n",
    "df.info()"
   ]
  },
  {
   "cell_type": "markdown",
   "metadata": {},
   "source": [
    "#### Select player X for further analysis"
   ]
  },
  {
   "cell_type": "code",
   "execution_count": 7,
   "metadata": {},
   "outputs": [],
   "source": [
    "df1 = df[(df.Dictator == 1)].sort_values('Treatment')"
   ]
  },
  {
   "cell_type": "markdown",
   "metadata": {},
   "source": [
    "### Proportion of players chosing the selfish option, by first treatment dimension"
   ]
  },
  {
   "cell_type": "code",
   "execution_count": 8,
   "metadata": {},
   "outputs": [
    {
     "data": {
      "text/html": [
       "<div>\n",
       "<style scoped>\n",
       "    .dataframe tbody tr th:only-of-type {\n",
       "        vertical-align: middle;\n",
       "    }\n",
       "\n",
       "    .dataframe tbody tr th {\n",
       "        vertical-align: top;\n",
       "    }\n",
       "\n",
       "    .dataframe thead th {\n",
       "        text-align: right;\n",
       "    }\n",
       "</style>\n",
       "<table border=\"1\" class=\"dataframe\">\n",
       "  <thead>\n",
       "    <tr style=\"text-align: right;\">\n",
       "      <th></th>\n",
       "      <th>mean</th>\n",
       "      <th>sem</th>\n",
       "      <th>count</th>\n",
       "    </tr>\n",
       "    <tr>\n",
       "      <th>Treatment</th>\n",
       "      <th></th>\n",
       "      <th></th>\n",
       "      <th></th>\n",
       "    </tr>\n",
       "  </thead>\n",
       "  <tbody>\n",
       "    <tr>\n",
       "      <th>No Risk</th>\n",
       "      <td>0.442</td>\n",
       "      <td>0.017</td>\n",
       "      <td>903</td>\n",
       "    </tr>\n",
       "    <tr>\n",
       "      <th>Risk</th>\n",
       "      <td>0.506</td>\n",
       "      <td>0.017</td>\n",
       "      <td>896</td>\n",
       "    </tr>\n",
       "  </tbody>\n",
       "</table>\n",
       "</div>"
      ],
      "text/plain": [
       "           mean   sem  count\n",
       "Treatment                   \n",
       "No Risk   0.442 0.017    903\n",
       "Risk      0.506 0.017    896"
      ]
     },
     "metadata": {},
     "output_type": "display_data"
    }
   ],
   "source": [
    "selfish_first = df1.groupby('Treatment_first')['Decision']\\\n",
    "        .agg(['mean', 'sem', 'count'])\\\n",
    "        .rename_axis('Treatment', axis=0)\n",
    "\n",
    "display(selfish_first)"
   ]
  },
  {
   "cell_type": "markdown",
   "metadata": {},
   "source": [
    "#### Plotting proportion of players chosing the selfish option, by first treatment dimension"
   ]
  },
  {
   "cell_type": "code",
   "execution_count": 9,
   "metadata": {},
   "outputs": [
    {
     "data": {
      "image/png": "[encoded data removed]",
      "text/plain": [
       "<Figure size 800x600 with 1 Axes>"
      ]
     },
     "metadata": {},
     "output_type": "display_data"
    }
   ],
   "source": [
    "fig, ax = plt.subplots(figsize=(8, 6), dpi=100, facecolor='w')\n",
    "selfish_first['mean'].plot(yerr=selfish_first['sem'], ax=ax, error_kw=e_kwargs, **bar_kwargs)\n",
    "ax.set_title('Proportion choosing the selfish option', **font_kwargs)\n",
    "ax.tick_params(axis='x', rotation=0, **tick_kwargs)\n",
    "ax.tick_params(axis='y', **tick_kwargs)\n",
    "ax.set_ylabel(\"Proportion choosing 'Option B' +/- SE(mean)\", **ylabel_kwargs)\n",
    "ax.set_xlabel(\"\") \n",
    "plt.savefig(os.path.join(FIGURES_FOLDER, 'selfish_first.pdf'), bbox_inches='tight')\n",
    "plt.show()"
   ]
  },
  {
   "cell_type": "markdown",
   "metadata": {},
   "source": [
    "#### Pairwise sample proportion test for proportion of subjects choosing selfish, first dimension"
   ]
  },
  {
   "cell_type": "code",
   "execution_count": 10,
   "metadata": {},
   "outputs": [
    {
     "data": {
      "text/html": [
       "<table class=\"simpletable\">\n",
       "<caption>Test Multiple Comparison ttest_ind \n",
       "FWER=0.05 method=Holm\n",
       "alphacSidak=0.05, alphacBonf=0.050</caption>\n",
       "<tr>\n",
       "  <th>group1</th>  <th>group2</th>  <th>stat</th>    <th>pval</th>  <th>pval_corr</th> <th>reject</th>\n",
       "</tr>\n",
       "<tr>\n",
       "  <td>No Risk</td>  <td>Risk</td>  <td>-2.7104</td> <td>0.0068</td>  <td>0.0068</td>    <td>True</td> \n",
       "</tr>\n",
       "</table>"
      ],
      "text/plain": [
       "<class 'statsmodels.iolib.table.SimpleTable'>"
      ]
     },
     "execution_count": 10,
     "metadata": {},
     "output_type": "execute_result"
    }
   ],
   "source": [
    "mct = MultiComparison(df1.Decision, df1.Treatment_first)\n",
    "mct.allpairtest(stats.ttest_ind, method='Holm')[0]"
   ]
  },
  {
   "cell_type": "markdown",
   "metadata": {},
   "source": [
    "#### Proportion of players chosing the selfish option, by first second dimension"
   ]
  },
  {
   "cell_type": "code",
   "execution_count": 11,
   "metadata": {},
   "outputs": [
    {
     "data": {
      "text/html": [
       "<div>\n",
       "<style scoped>\n",
       "    .dataframe tbody tr th:only-of-type {\n",
       "        vertical-align: middle;\n",
       "    }\n",
       "\n",
       "    .dataframe tbody tr th {\n",
       "        vertical-align: top;\n",
       "    }\n",
       "\n",
       "    .dataframe thead th {\n",
       "        text-align: right;\n",
       "    }\n",
       "</style>\n",
       "<table border=\"1\" class=\"dataframe\">\n",
       "  <thead>\n",
       "    <tr style=\"text-align: right;\">\n",
       "      <th></th>\n",
       "      <th>mean</th>\n",
       "      <th>sem</th>\n",
       "      <th>count</th>\n",
       "    </tr>\n",
       "    <tr>\n",
       "      <th>Treatment</th>\n",
       "      <th></th>\n",
       "      <th></th>\n",
       "      <th></th>\n",
       "    </tr>\n",
       "  </thead>\n",
       "  <tbody>\n",
       "    <tr>\n",
       "      <th>Dictate</th>\n",
       "      <td>0.556</td>\n",
       "      <td>0.020</td>\n",
       "      <td>603</td>\n",
       "    </tr>\n",
       "    <tr>\n",
       "      <th>Framed</th>\n",
       "      <td>0.483</td>\n",
       "      <td>0.020</td>\n",
       "      <td>598</td>\n",
       "    </tr>\n",
       "    <tr>\n",
       "      <th>Advise</th>\n",
       "      <td>0.381</td>\n",
       "      <td>0.020</td>\n",
       "      <td>598</td>\n",
       "    </tr>\n",
       "  </tbody>\n",
       "</table>\n",
       "</div>"
      ],
      "text/plain": [
       "           mean   sem  count\n",
       "Treatment                   \n",
       "Dictate   0.556 0.020    603\n",
       "Framed    0.483 0.020    598\n",
       "Advise    0.381 0.020    598"
      ]
     },
     "metadata": {},
     "output_type": "display_data"
    }
   ],
   "source": [
    "selfish_second = df1.groupby('Treatment_second')['Decision']\\\n",
    "        .agg(['mean', 'sem', 'count'])\\\n",
    "        .rename_axis('Treatment', axis=0)\\\n",
    "        .reindex(['Dictate', 'Framed', 'Advise'], axis=0)\n",
    "\n",
    "display(selfish_second)"
   ]
  },
  {
   "cell_type": "markdown",
   "metadata": {},
   "source": [
    "#### Plotting proportion of players chosing the selfish option, by first second dimension"
   ]
  },
  {
   "cell_type": "code",
   "execution_count": 12,
   "metadata": {},
   "outputs": [
    {
     "data": {
      "image/png": "[encoded data removed]",
      "text/plain": [
       "<Figure size 800x600 with 1 Axes>"
      ]
     },
     "metadata": {},
     "output_type": "display_data"
    }
   ],
   "source": [
    "fig, ax = plt.subplots(figsize=(8, 6), dpi=100, facecolor='w')\n",
    "selfish_second['mean'].plot(yerr=selfish_second['sem'], ax=ax, error_kw=e_kwargs, **bar_kwargs)\n",
    "ax.set_title('Proportion choosing the selfish option', **font_kwargs)\n",
    "ax.tick_params(axis='x', rotation=0, **tick_kwargs)\n",
    "ax.tick_params(axis='y', **tick_kwargs)\n",
    "ax.set_ylabel(\"Proportion choosing 'Option B' +/- SE(mean)\", **ylabel_kwargs)\n",
    "ax.set_xlabel(\"\") \n",
    "plt.savefig(os.path.join(FIGURES_FOLDER, 'selfish_first.pdf'), bbox_inches='tight')\n",
    "plt.show()"
   ]
  },
  {
   "cell_type": "markdown",
   "metadata": {},
   "source": [
    "#### Pairwise sample proportion test for proportion of subjects choosing selfish, first dimension"
   ]
  },
  {
   "cell_type": "code",
   "execution_count": 13,
   "metadata": {},
   "outputs": [
    {
     "data": {
      "text/html": [
       "<table class=\"simpletable\">\n",
       "<caption>Test Multiple Comparison ttest_ind \n",
       "FWER=0.05 method=Holm\n",
       "alphacSidak=0.02, alphacBonf=0.017</caption>\n",
       "<tr>\n",
       "  <th>group1</th>  <th>group2</th>   <th>stat</th>    <th>pval</th>  <th>pval_corr</th> <th>reject</th>\n",
       "</tr>\n",
       "<tr>\n",
       "  <td>Advise</td>  <td>Dictate</td> <td>-6.141</td>    <td>0.0</td>     <td>0.0</td>     <td>True</td> \n",
       "</tr>\n",
       "<tr>\n",
       "  <td>Advise</td>  <td>Framed</td>  <td>-3.5766</td> <td>0.0004</td>  <td>0.0007</td>    <td>True</td> \n",
       "</tr>\n",
       "<tr>\n",
       "  <td>Dictate</td> <td>Framed</td>  <td>2.5112</td>  <td>0.0122</td>  <td>0.0122</td>    <td>True</td> \n",
       "</tr>\n",
       "</table>"
      ],
      "text/plain": [
       "<class 'statsmodels.iolib.table.SimpleTable'>"
      ]
     },
     "execution_count": 13,
     "metadata": {},
     "output_type": "execute_result"
    }
   ],
   "source": [
    "mct = MultiComparison(df1.Decision, df1.Treatment_second)\n",
    "mct.allpairtest(stats.ttest_ind, method='Holm')[0]"
   ]
  },
  {
   "cell_type": "markdown",
   "metadata": {},
   "source": [
    "#### Cross tabulate proportion off subjects choosing the selfish option"
   ]
  },
  {
   "cell_type": "code",
   "execution_count": 14,
   "metadata": {},
   "outputs": [
    {
     "data": {
      "text/html": [
       "<div>\n",
       "<style scoped>\n",
       "    .dataframe tbody tr th:only-of-type {\n",
       "        vertical-align: middle;\n",
       "    }\n",
       "\n",
       "    .dataframe tbody tr th {\n",
       "        vertical-align: top;\n",
       "    }\n",
       "\n",
       "    .dataframe thead th {\n",
       "        text-align: right;\n",
       "    }\n",
       "</style>\n",
       "<table border=\"1\" class=\"dataframe\">\n",
       "  <thead>\n",
       "    <tr style=\"text-align: right;\">\n",
       "      <th></th>\n",
       "      <th>Dictate</th>\n",
       "      <th>Framed</th>\n",
       "      <th>Advise</th>\n",
       "      <th>All</th>\n",
       "    </tr>\n",
       "    <tr>\n",
       "      <th></th>\n",
       "      <th></th>\n",
       "      <th></th>\n",
       "      <th></th>\n",
       "      <th></th>\n",
       "    </tr>\n",
       "  </thead>\n",
       "  <tbody>\n",
       "    <tr>\n",
       "      <th>No Risk</th>\n",
       "      <td>0.554</td>\n",
       "      <td>0.423</td>\n",
       "      <td>0.373</td>\n",
       "      <td>0.450</td>\n",
       "    </tr>\n",
       "    <tr>\n",
       "      <th>Risk</th>\n",
       "      <td>0.558</td>\n",
       "      <td>0.545</td>\n",
       "      <td>0.425</td>\n",
       "      <td>0.510</td>\n",
       "    </tr>\n",
       "    <tr>\n",
       "      <th>All</th>\n",
       "      <td>0.556</td>\n",
       "      <td>0.484</td>\n",
       "      <td>0.399</td>\n",
       "      <td>0.480</td>\n",
       "    </tr>\n",
       "  </tbody>\n",
       "</table>\n",
       "</div>"
      ],
      "text/plain": [
       "         Dictate  Framed  Advise   All\n",
       "                                      \n",
       "No Risk    0.554   0.423   0.373 0.450\n",
       "Risk       0.558   0.545   0.425 0.510\n",
       "All        0.556   0.484   0.399 0.480"
      ]
     },
     "metadata": {},
     "output_type": "display_data"
    }
   ],
   "source": [
    "selfish_cross = pd.crosstab(\n",
    "        df['Treatment_first'],\n",
    "        df['Treatment_second'],\n",
    "        values= df['Decision'],\n",
    "        aggfunc='mean',\n",
    "        margins=True)\\\n",
    "    .rename_axis('', axis=0)\\\n",
    "    .rename_axis('', axis=1)\\\n",
    "    .reindex(['Dictate', 'Framed', 'Advise', 'All'], axis=1)\n",
    "    \n",
    "display(selfish_cross)"
   ]
  },
  {
   "cell_type": "markdown",
   "metadata": {},
   "source": [
    "#### Figure 2: Proportion of players chosing the selfish option <a id='selfish_bar'></a>"
   ]
  },
  {
   "cell_type": "code",
   "execution_count": 15,
   "metadata": {},
   "outputs": [
    {
     "data": {
      "text/html": [
       "<div>\n",
       "<style scoped>\n",
       "    .dataframe tbody tr th:only-of-type {\n",
       "        vertical-align: middle;\n",
       "    }\n",
       "\n",
       "    .dataframe tbody tr th {\n",
       "        vertical-align: top;\n",
       "    }\n",
       "\n",
       "    .dataframe thead th {\n",
       "        text-align: right;\n",
       "    }\n",
       "</style>\n",
       "<table border=\"1\" class=\"dataframe\">\n",
       "  <thead>\n",
       "    <tr style=\"text-align: right;\">\n",
       "      <th></th>\n",
       "      <th></th>\n",
       "      <th>mean</th>\n",
       "      <th>sem</th>\n",
       "      <th>count</th>\n",
       "    </tr>\n",
       "    <tr>\n",
       "      <th>Treatment_first</th>\n",
       "      <th>Treatment_second</th>\n",
       "      <th></th>\n",
       "      <th></th>\n",
       "      <th></th>\n",
       "    </tr>\n",
       "  </thead>\n",
       "  <tbody>\n",
       "    <tr>\n",
       "      <th rowspan=\"3\" valign=\"top\">No Risk</th>\n",
       "      <th>Dictate</th>\n",
       "      <td>0.553</td>\n",
       "      <td>0.029</td>\n",
       "      <td>304</td>\n",
       "    </tr>\n",
       "    <tr>\n",
       "      <th>Framed</th>\n",
       "      <td>0.418</td>\n",
       "      <td>0.029</td>\n",
       "      <td>297</td>\n",
       "    </tr>\n",
       "    <tr>\n",
       "      <th>Advise</th>\n",
       "      <td>0.354</td>\n",
       "      <td>0.028</td>\n",
       "      <td>302</td>\n",
       "    </tr>\n",
       "    <tr>\n",
       "      <th rowspan=\"3\" valign=\"top\">Risk</th>\n",
       "      <th>Dictate</th>\n",
       "      <td>0.559</td>\n",
       "      <td>0.029</td>\n",
       "      <td>299</td>\n",
       "    </tr>\n",
       "    <tr>\n",
       "      <th>Framed</th>\n",
       "      <td>0.548</td>\n",
       "      <td>0.029</td>\n",
       "      <td>301</td>\n",
       "    </tr>\n",
       "    <tr>\n",
       "      <th>Advise</th>\n",
       "      <td>0.409</td>\n",
       "      <td>0.029</td>\n",
       "      <td>296</td>\n",
       "    </tr>\n",
       "  </tbody>\n",
       "</table>\n",
       "</div>"
      ],
      "text/plain": [
       "                                  mean   sem  count\n",
       "Treatment_first Treatment_second                   \n",
       "No Risk         Dictate          0.553 0.029    304\n",
       "                Framed           0.418 0.029    297\n",
       "                Advise           0.354 0.028    302\n",
       "Risk            Dictate          0.559 0.029    299\n",
       "                Framed           0.548 0.029    301\n",
       "                Advise           0.409 0.029    296"
      ]
     },
     "metadata": {},
     "output_type": "display_data"
    }
   ],
   "source": [
    "selfish = df1.groupby(['Treatment_first', 'Treatment_second'])['Decision']\\\n",
    "    .agg(['mean', 'sem', 'count'])\\\n",
    "    .reindex(['Dictate', 'Framed', 'Advise'], axis=0, level=1)\n",
    "\n",
    "display(selfish)"
   ]
  },
  {
   "cell_type": "code",
   "execution_count": 16,
   "metadata": {},
   "outputs": [
    {
     "data": {
      "image/png": "[encoded data removed]",
      "text/plain": [
       "<Figure size 1000x600 with 2 Axes>"
      ]
     },
     "metadata": {},
     "output_type": "display_data"
    }
   ],
   "source": [
    "fig, axis = plt.subplots(ncols=2, figsize=(10, 6), dpi=100, facecolor='w')\n",
    "fig.subplots_adjust(wspace=0.25)\n",
    "axis[0].set_title('Safe', **font_kwargs)\n",
    "axis[1].set_title('Risky', **font_kwargs)\n",
    "selfish.loc['No Risk', 'mean'].plot(yerr=selfish.loc['No Risk', 'sem'], ax=axis[0], error_kw=e_kwargs, **bar_kwargs)\n",
    "selfish.loc[   'Risk', 'mean'].plot(yerr=selfish.loc[   'Risk', 'sem'], ax=axis[1], error_kw=e_kwargs, **bar_kwargs)\n",
    "for ax in axis:\n",
    "    ax.tick_params(axis='x', rotation=0, **tick_kwargs)\n",
    "    ax.tick_params(axis='y', **tick_kwargs)\n",
    "    ax.set_ylim(0.0,0.7) \n",
    "    ax.yaxis.set_major_formatter(FuncFormatter(lambda y, _: '{:.0%}'.format(y)))\n",
    "    ax.set_ylabel(\"Proportion choosing 'Option B' +/- SE(mean)\", **ylabel_kwargs)\n",
    "    ax.set_xlabel(\"\") \n",
    "plt.savefig(os.path.join(FIGURES_FOLDER, 'selfish_all.pdf'), bbox_inches='tight')\n",
    "plt.show()"
   ]
  },
  {
   "cell_type": "markdown",
   "metadata": {},
   "source": [
    "#### Table 2: Regressing the probability of player X to choose the selfish option <a id='selfish_reg'></a>"
   ]
  },
  {
   "cell_type": "code",
   "execution_count": 17,
   "metadata": {},
   "outputs": [
    {
     "data": {
      "text/html": [
       "<div>\n",
       "<style scoped>\n",
       "    .dataframe tbody tr th:only-of-type {\n",
       "        vertical-align: middle;\n",
       "    }\n",
       "\n",
       "    .dataframe tbody tr th {\n",
       "        vertical-align: top;\n",
       "    }\n",
       "\n",
       "    .dataframe thead th {\n",
       "        text-align: right;\n",
       "    }\n",
       "</style>\n",
       "<table border=\"1\" class=\"dataframe\">\n",
       "  <thead>\n",
       "    <tr style=\"text-align: right;\">\n",
       "      <th></th>\n",
       "      <th>Decision</th>\n",
       "      <th>Decision</th>\n",
       "      <th>Decision</th>\n",
       "      <th>Decision</th>\n",
       "    </tr>\n",
       "  </thead>\n",
       "  <tbody>\n",
       "    <tr>\n",
       "      <th>Framed</th>\n",
       "      <td>-0.072**</td>\n",
       "      <td></td>\n",
       "      <td>-0.135***</td>\n",
       "      <td>-0.131***</td>\n",
       "    </tr>\n",
       "    <tr>\n",
       "      <th></th>\n",
       "      <td>(0.029)</td>\n",
       "      <td></td>\n",
       "      <td>(0.040)</td>\n",
       "      <td>(0.040)</td>\n",
       "    </tr>\n",
       "    <tr>\n",
       "      <th>Advise</th>\n",
       "      <td>-0.174***</td>\n",
       "      <td></td>\n",
       "      <td>-0.198***</td>\n",
       "      <td>-0.198***</td>\n",
       "    </tr>\n",
       "    <tr>\n",
       "      <th></th>\n",
       "      <td>(0.028)</td>\n",
       "      <td></td>\n",
       "      <td>(0.040)</td>\n",
       "      <td>(0.040)</td>\n",
       "    </tr>\n",
       "    <tr>\n",
       "      <th>Risk</th>\n",
       "      <td></td>\n",
       "      <td>0.064***</td>\n",
       "      <td>0.006</td>\n",
       "      <td>0.007</td>\n",
       "    </tr>\n",
       "    <tr>\n",
       "      <th></th>\n",
       "      <td></td>\n",
       "      <td>(0.024)</td>\n",
       "      <td>(0.041)</td>\n",
       "      <td>(0.040)</td>\n",
       "    </tr>\n",
       "    <tr>\n",
       "      <th>Framed * risk</th>\n",
       "      <td></td>\n",
       "      <td></td>\n",
       "      <td>0.125**</td>\n",
       "      <td>0.122**</td>\n",
       "    </tr>\n",
       "    <tr>\n",
       "      <th></th>\n",
       "      <td></td>\n",
       "      <td></td>\n",
       "      <td>(0.057)</td>\n",
       "      <td>(0.057)</td>\n",
       "    </tr>\n",
       "    <tr>\n",
       "      <th>Advise * risk</th>\n",
       "      <td></td>\n",
       "      <td></td>\n",
       "      <td>0.049</td>\n",
       "      <td>0.049</td>\n",
       "    </tr>\n",
       "    <tr>\n",
       "      <th></th>\n",
       "      <td></td>\n",
       "      <td></td>\n",
       "      <td>(0.057)</td>\n",
       "      <td>(0.057)</td>\n",
       "    </tr>\n",
       "    <tr>\n",
       "      <th>Age</th>\n",
       "      <td></td>\n",
       "      <td></td>\n",
       "      <td></td>\n",
       "      <td>-0.002**</td>\n",
       "    </tr>\n",
       "    <tr>\n",
       "      <th></th>\n",
       "      <td></td>\n",
       "      <td></td>\n",
       "      <td></td>\n",
       "      <td>(0.001)</td>\n",
       "    </tr>\n",
       "    <tr>\n",
       "      <th>Female</th>\n",
       "      <td></td>\n",
       "      <td></td>\n",
       "      <td></td>\n",
       "      <td>-0.106***</td>\n",
       "    </tr>\n",
       "    <tr>\n",
       "      <th></th>\n",
       "      <td></td>\n",
       "      <td></td>\n",
       "      <td></td>\n",
       "      <td>(0.023)</td>\n",
       "    </tr>\n",
       "    <tr>\n",
       "      <th>Education</th>\n",
       "      <td></td>\n",
       "      <td></td>\n",
       "      <td></td>\n",
       "      <td>-0.000</td>\n",
       "    </tr>\n",
       "    <tr>\n",
       "      <th></th>\n",
       "      <td></td>\n",
       "      <td></td>\n",
       "      <td></td>\n",
       "      <td>(0.009)</td>\n",
       "    </tr>\n",
       "    <tr>\n",
       "      <th>Political</th>\n",
       "      <td></td>\n",
       "      <td></td>\n",
       "      <td></td>\n",
       "      <td>0.013</td>\n",
       "    </tr>\n",
       "    <tr>\n",
       "      <th></th>\n",
       "      <td></td>\n",
       "      <td></td>\n",
       "      <td></td>\n",
       "      <td>(0.010)</td>\n",
       "    </tr>\n",
       "    <tr>\n",
       "      <th>Intercept</th>\n",
       "      <td>0.556***</td>\n",
       "      <td>0.442***</td>\n",
       "      <td>0.553***</td>\n",
       "      <td>0.696***</td>\n",
       "    </tr>\n",
       "    <tr>\n",
       "      <th></th>\n",
       "      <td>(0.020)</td>\n",
       "      <td>(0.017)</td>\n",
       "      <td>(0.029)</td>\n",
       "      <td>(0.059)</td>\n",
       "    </tr>\n",
       "    <tr>\n",
       "      <th>N</th>\n",
       "      <td>1799</td>\n",
       "      <td>1799</td>\n",
       "      <td>1799</td>\n",
       "      <td>1799</td>\n",
       "    </tr>\n",
       "    <tr>\n",
       "      <th>R2</th>\n",
       "      <td>0.021</td>\n",
       "      <td>0.004</td>\n",
       "      <td>0.027</td>\n",
       "      <td>0.044</td>\n",
       "    </tr>\n",
       "    <tr>\n",
       "      <th>P&gt;f</th>\n",
       "      <td>0.000</td>\n",
       "      <td>0.007</td>\n",
       "      <td>0.000</td>\n",
       "      <td>0.000</td>\n",
       "    </tr>\n",
       "  </tbody>\n",
       "</table>\n",
       "</div>"
      ],
      "text/plain": [
       "                Decision  Decision   Decision   Decision\n",
       "Framed          -0.072**            -0.135***  -0.131***\n",
       "                 (0.029)              (0.040)    (0.040)\n",
       "Advise         -0.174***            -0.198***  -0.198***\n",
       "                 (0.028)              (0.040)    (0.040)\n",
       "Risk                      0.064***      0.006      0.007\n",
       "                           (0.024)    (0.041)    (0.040)\n",
       "Framed * risk                         0.125**    0.122**\n",
       "                                      (0.057)    (0.057)\n",
       "Advise * risk                           0.049      0.049\n",
       "                                      (0.057)    (0.057)\n",
       "Age                                             -0.002**\n",
       "                                                 (0.001)\n",
       "Female                                         -0.106***\n",
       "                                                 (0.023)\n",
       "Education                                         -0.000\n",
       "                                                 (0.009)\n",
       "Political                                          0.013\n",
       "                                                 (0.010)\n",
       "Intercept       0.556***  0.442***   0.553***   0.696***\n",
       "                 (0.020)   (0.017)    (0.029)    (0.059)\n",
       "N                   1799      1799       1799       1799\n",
       "R2                 0.021     0.004      0.027      0.044\n",
       "P>f                0.000     0.007      0.000      0.000"
      ]
     },
     "metadata": {},
     "output_type": "display_data"
    }
   ],
   "source": [
    "regs = dict()\n",
    "regs['reg1'] = 'Decision ~ Advise + Framed'\n",
    "regs['reg2'] = 'Decision ~ Risk'\n",
    "regs['reg3'] = 'Decision ~ (Advise + Framed) * (Risk)'\n",
    "regs['reg4'] =  regs['reg3'] + ' + Age + Female + Education + Political'\n",
    "\n",
    "ols_results = []\n",
    "for k, v in regs.items():\n",
    "    ols = smf.ols(formula=v, data=df1).fit()\n",
    "    ols = ols.get_robustcov_results()\n",
    "    ols_results.append(ols)\n",
    "\n",
    "order = [\n",
    "    'Framed',\n",
    "    'Advise',\n",
    "    'Risk',\n",
    "    'Framed:Risk',\n",
    "    'Advise:Risk', \n",
    "    'Age',\n",
    "    'Female',\n",
    "    'Education',\n",
    "    'Political',\n",
    "    'Intercept',\n",
    "]\n",
    "\n",
    "auxiliary = {\n",
    "    'N': lambda x: \"{:d}\".format(int(x.nobs)),\n",
    "    'R2': lambda x: \"{:.3f}\".format(x.rsquared),\n",
    "    'P>F': lambda x: \"{:.3f}\".format(x.f_pvalue.item()),\n",
    "}\n",
    "ols_quant = summary_col(\n",
    "    ols_results,\n",
    "    stars=True,\n",
    "    info_dict=auxiliary,\n",
    "    float_format='%.3f',\n",
    "    regressor_order=order\n",
    ")\n",
    "ols_quant = ols_quant\\\n",
    "    .tables[0]\\\n",
    "    .rename(mapper=lambda x: x.replace('_', ' ').replace(':', ' * ').capitalize(), axis=0)\\\n",
    "    .rename(mapper=lambda x: x.capitalize().split()[0].replace('_', ' '), axis=1)\\\n",
    "\n",
    "ols_quant.to_latex(\n",
    "    os.path.join(TABLES_FOLDER, 'ols_selfish.tex'),\n",
    "    bold_rows=True,\n",
    "    float_format=\"%.3f\"\n",
    ")\n",
    "display(ols_quant)"
   ]
  },
  {
   "cell_type": "code",
   "execution_count": 18,
   "metadata": {},
   "outputs": [
    {
     "name": "stderr",
     "output_type": "stream",
     "text": [
      "/home/sebastian/.virtualenvs/fair_advice/lib/python3.6/site-packages/scipy/stats/_distn_infrastructure.py:903: RuntimeWarning: invalid value encountered in greater\n",
      "  return (a < x) & (x < b)\n",
      "/home/sebastian/.virtualenvs/fair_advice/lib/python3.6/site-packages/scipy/stats/_distn_infrastructure.py:903: RuntimeWarning: invalid value encountered in less\n",
      "  return (a < x) & (x < b)\n",
      "/home/sebastian/.virtualenvs/fair_advice/lib/python3.6/site-packages/scipy/stats/_distn_infrastructure.py:1912: RuntimeWarning: invalid value encountered in less_equal\n",
      "  cond2 = cond0 & (x <= _a)\n"
     ]
    },
    {
     "data": {
      "text/html": [
       "<div>\n",
       "<style scoped>\n",
       "    .dataframe tbody tr th:only-of-type {\n",
       "        vertical-align: middle;\n",
       "    }\n",
       "\n",
       "    .dataframe tbody tr th {\n",
       "        vertical-align: top;\n",
       "    }\n",
       "\n",
       "    .dataframe thead th {\n",
       "        text-align: right;\n",
       "    }\n",
       "</style>\n",
       "<table border=\"1\" class=\"dataframe\">\n",
       "  <thead>\n",
       "    <tr style=\"text-align: right;\">\n",
       "      <th></th>\n",
       "      <th>df_resid</th>\n",
       "      <th>ssr</th>\n",
       "      <th>df_diff</th>\n",
       "      <th>ss_diff</th>\n",
       "      <th>F</th>\n",
       "      <th>Pr(&gt;F)</th>\n",
       "    </tr>\n",
       "  </thead>\n",
       "  <tbody>\n",
       "    <tr>\n",
       "      <th>0</th>\n",
       "      <td>1796.000</td>\n",
       "      <td>439.292</td>\n",
       "      <td>0.000</td>\n",
       "      <td>nan</td>\n",
       "      <td>nan</td>\n",
       "      <td>nan</td>\n",
       "    </tr>\n",
       "    <tr>\n",
       "      <th>1</th>\n",
       "      <td>1797.000</td>\n",
       "      <td>446.670</td>\n",
       "      <td>-1.000</td>\n",
       "      <td>-7.378</td>\n",
       "      <td>30.772</td>\n",
       "      <td>nan</td>\n",
       "    </tr>\n",
       "    <tr>\n",
       "      <th>2</th>\n",
       "      <td>1793.000</td>\n",
       "      <td>436.291</td>\n",
       "      <td>4.000</td>\n",
       "      <td>10.379</td>\n",
       "      <td>10.823</td>\n",
       "      <td>0.000</td>\n",
       "    </tr>\n",
       "    <tr>\n",
       "      <th>3</th>\n",
       "      <td>1789.000</td>\n",
       "      <td>428.925</td>\n",
       "      <td>4.000</td>\n",
       "      <td>7.366</td>\n",
       "      <td>7.681</td>\n",
       "      <td>0.000</td>\n",
       "    </tr>\n",
       "  </tbody>\n",
       "</table>\n",
       "</div>"
      ],
      "text/plain": [
       "   df_resid     ssr  df_diff  ss_diff      F  Pr(>F)\n",
       "0  1796.000 439.292    0.000      nan    nan     nan\n",
       "1  1797.000 446.670   -1.000   -7.378 30.772     nan\n",
       "2  1793.000 436.291    4.000   10.379 10.823   0.000\n",
       "3  1789.000 428.925    4.000    7.366  7.681   0.000"
      ]
     },
     "execution_count": 18,
     "metadata": {},
     "output_type": "execute_result"
    }
   ],
   "source": [
    "anova_lm(*ols_results, robust='hc3')"
   ]
  }
 ],
 "metadata": {
  "hide_input": false,
  "kernelspec": {
   "display_name": "Python 3",
   "language": "python",
   "name": "python3"
  },
  "language_info": {
   "codemirror_mode": {
    "name": "ipython",
    "version": 3
   },
   "file_extension": ".py",
   "mimetype": "text/x-python",
   "name": "python",
   "nbconvert_exporter": "python",
   "pygments_lexer": "ipython3",
   "version": "3.6.9"
  }
 },
 "nbformat": 4,
 "nbformat_minor": 4
}
